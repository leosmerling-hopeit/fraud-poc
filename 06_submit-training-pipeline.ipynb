{
 "cells": [
  {
   "cell_type": "code",
   "execution_count": null,
   "metadata": {},
   "outputs": [],
   "source": [
    "#default_exp submit_training_pipeline"
   ]
  },
  {
   "cell_type": "markdown",
   "metadata": {},
   "source": [
    "### Submit training pipeline\n",
    "\n",
    "> Convenience endpoint to run data+training pipeline without re-creating sample/raw data"
   ]
  },
  {
   "cell_type": "code",
   "execution_count": null,
   "metadata": {},
   "outputs": [],
   "source": [
    "#export\n",
    "import dask.dataframe as dd\n",
    "\n",
    "from hopeit.app.context import EventContext\n",
    "from hopeit.app.events import Spawn, SHUFFLE\n",
    "from hopeit.app.api import event_api\n",
    "from hopeit.app.logger import app_logger\n",
    "\n",
    "from fraud_poc.jobs import MakeSampleDataJob"
   ]
  },
  {
   "cell_type": "code",
   "execution_count": null,
   "metadata": {},
   "outputs": [],
   "source": [
    "#export\n",
    "__steps__ = ['submit']\n",
    "\n",
    "__api__ = event_api(\n",
    "    title=\"Training: Submit training pipeline\",\n",
    "    query_args=[\n",
    "        (\"raw_path\", str, \"Path to source raw data\")\n",
    "    ],\n",
    "    responses={\n",
    "        200: (MakeSampleDataJob, \"Job submitted\")\n",
    "    }\n",
    ")\n",
    "\n",
    "\n",
    "logger = app_logger()"
   ]
  },
  {
   "cell_type": "code",
   "execution_count": null,
   "metadata": {},
   "outputs": [],
   "source": [
    "#export\n",
    "def submit(payload: None, context: EventContext, raw_path: str) -> MakeSampleDataJob:\n",
    "    job = MakeSampleDataJob(path=raw_path)\n",
    "    logger.info(context, f\"Submitting {job}...\")\n",
    "    return job"
   ]
  },
  {
   "cell_type": "code",
   "execution_count": null,
   "metadata": {},
   "outputs": [],
   "source": []
  }
 ],
 "metadata": {
  "kernelspec": {
   "display_name": "Python 3",
   "language": "python",
   "name": "python3"
  }
 },
 "nbformat": 4,
 "nbformat_minor": 4
}
