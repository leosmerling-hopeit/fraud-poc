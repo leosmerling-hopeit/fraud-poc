{
 "cells": [
  {
   "cell_type": "code",
   "execution_count": null,
   "metadata": {},
   "outputs": [],
   "source": [
    "#default_exp live.predict"
   ]
  },
  {
   "cell_type": "code",
   "execution_count": null,
   "metadata": {},
   "outputs": [
    {
     "name": "stdout",
     "output_type": "stream",
     "text": [
      "Converted 00_jobs.ipynb.\n",
      "Converted 01-create-sample-data.ipynb.\n",
      "Converted 02-preprocess.ipynb.\n",
      "Converted 03-feature-calc.ipynb.\n",
      "Converted 04-training-data.ipynb.\n",
      "Converted 05-train-model.ipynb.\n",
      "Converted 06-submit-training-pipeline.ipynb.\n",
      "Converted 07-prepare-db.ipynb.\n",
      "Converted 08-predict.ipynb.\n",
      "Converted 99-tools.ipynb.\n",
      "Converted index.ipynb.\n"
     ]
    }
   ],
   "source": [
    "!nbdev_build_lib"
   ]
  },
  {
   "cell_type": "code",
   "execution_count": null,
   "metadata": {},
   "outputs": [],
   "source": [
    "#export\n",
    "from typing import Dict, Optional\n",
    "from datetime import datetime, timezone, timedelta\n",
    "import os\n",
    "import pickle\n",
    "import aioredis\n",
    "import asyncio\n",
    "\n",
    "import pandas as pd\n",
    "import xgboost as xgb\n",
    "from dataclasses import dataclass\n",
    "from hopeit.dataobjects import dataobject\n",
    "from hopeit.server.serialization import serialize, Serialization, deserialize\n",
    "from hopeit.server.compression import Compression\n",
    "from hopeit.app.context import EventContext, PostprocessHook\n",
    "from hopeit.app.events import Spawn, SHUFFLE\n",
    "from hopeit.app.api import event_api\n",
    "from hopeit.app.logger import app_logger"
   ]
  },
  {
   "cell_type": "code",
   "execution_count": null,
   "metadata": {},
   "outputs": [],
   "source": [
    "#export\n",
    "@dataobject\n",
    "@dataclass\n",
    "class OrderInfo:\n",
    "    order_id: str\n",
    "    customer_id: str\n",
    "    order_date: datetime\n",
    "    email: str\n",
    "    ip_addr: str\n",
    "    amount: float\n",
    "    location_lat: float\n",
    "    location_long: float\n"
   ]
  },
  {
   "cell_type": "code",
   "execution_count": null,
   "metadata": {},
   "outputs": [],
   "source": [
    "#export\n",
    "__steps__ = ['lookup_features', 'predict']\n",
    "\n",
    "__api__ = event_api(\n",
    "    title=\"Live: Predict Fraud\",\n",
    "    payload=(OrderInfo, \"Order Information\"),\n",
    "    responses={\n",
    "        200: (dict, \"features used for prediction contatining `is_fraud` field as result of prediction\"),\n",
    "        404: (str, \"customer or email not found (this example only works for known customer_id and email)\")\n",
    "    }\n",
    ")\n",
    "\n",
    "logger = app_logger()\n",
    "\n",
    "model = None\n",
    "db = None\n",
    "\n",
    "features = ['order_amount', \n",
    "            'num_email_by_customer_id', 'same_email_by_customer_id', 'known_email_by_customer_id', \n",
    "            'num_ip_addr_by_customer_id', 'same_ip_addr_by_customer_id', 'known_ip_addr_by_customer_id',\n",
    "            'num_customer_id_by_email', 'same_customer_id_by_email', 'known_customer_id_by_email',\n",
    "            'order_amount_mean_by_customer_id',\n",
    "            'order_amount_std_by_customer_id', 'order_amount_min_by_customer_id', 'order_amount_max_by_customer_id',\n",
    "            'order_amount_sum_by_customer_id', \n",
    "            'order_amount_mean_by_email',\n",
    "            'order_amount_std_by_email', 'order_amount_min_by_email', 'order_amount_max_by_email',\n",
    "            'order_amount_sum_by_email']"
   ]
  },
  {
   "cell_type": "code",
   "execution_count": null,
   "metadata": {},
   "outputs": [],
   "source": [
    "#export\n",
    "async def __init_event__(context: EventContext):\n",
    "    global model, db\n",
    "    if model is None:\n",
    "        file_name = os.path.join(context.env['model']['path'], context.env['model']['name'])\n",
    "        logger.info(context, f\"Loading model for prediction from {file_name}...\")\n",
    "        with open(file_name, 'rb') as fb:\n",
    "            model = pickle.load(fb)\n",
    "    if db is None:\n",
    "        address = context.env['db']['url']\n",
    "        logger.info(context, f\"Connecting to database {address}...\")\n",
    "        db = await aioredis.create_redis_pool(address)\n",
    "        "
   ]
  },
  {
   "cell_type": "code",
   "execution_count": null,
   "metadata": {},
   "outputs": [],
   "source": [
    "#export\n",
    "async def _lookup_db(key: str):\n",
    "    item = await db.get(key)\n",
    "    if item is None:\n",
    "        return None\n",
    "    return deserialize(item, Serialization.PICKLE4, Compression.LZ4, dict)"
   ]
  },
  {
   "cell_type": "code",
   "execution_count": null,
   "metadata": {},
   "outputs": [],
   "source": [
    "#export\n",
    "async def lookup_features(payload: OrderInfo, context: EventContext) -> Optional[dict]:\n",
    "    logger.info(context, \"Looking up features in database...\")\n",
    "    assert db, \"Connection to database missing.\"\n",
    "    customer_id_features, email_features = await asyncio.gather(\n",
    "        _lookup_db(payload.customer_id),\n",
    "        _lookup_db(payload.email)\n",
    "    )\n",
    "    if customer_id_features is None or email_features is None:\n",
    "        return None\n",
    "    return {**email_features, **customer_id_features, **payload.to_dict()}"
   ]
  },
  {
   "cell_type": "code",
   "execution_count": null,
   "metadata": {},
   "outputs": [],
   "source": [
    "#export\n",
    "async def predict(data: dict, context: EventContext) -> dict:\n",
    "    df = pd.DataFrame([data], columns=features)\n",
    "    x = xgb.DMatrix(df)\n",
    "    y = model.predict(x)\n",
    "    data['is_fraud'] = y[0].item()\n",
    "    return data\n",
    "    "
   ]
  },
  {
   "cell_type": "code",
   "execution_count": null,
   "metadata": {},
   "outputs": [],
   "source": [
    "#export\n",
    "async def __postprocess__(payload: Optional[dict], context: EventContext, response: PostprocessHook) -> dict:\n",
    "    if payload is None:\n",
    "        response.status = 404\n",
    "        return \"customer or email not found (this example only works for known customer_id and email)\"\n",
    "    return payload\n",
    "        "
   ]
  },
  {
   "cell_type": "markdown",
   "metadata": {},
   "source": [
    "### Test from notebook"
   ]
  },
  {
   "cell_type": "code",
   "execution_count": null,
   "metadata": {},
   "outputs": [
    {
     "name": "stderr",
     "output_type": "stream",
     "text": [
      "2020-07-08 10:23:19,778 | INFO | fraud-poc 0.0.1-service live.predict leo-legion 27044 | __init_event__ module=fraud_poc.live.predict... | track.operation_id=test_operation_id | track.request_id=test_request_id | track.request_ts=2020-07-08T10:23:19.778396+00:00\n",
      "2020-07-08 10:23:19,778 | INFO | fraud-poc 0.0.1-service live.predict leo-legion 27044 | Loading model for prediction from ./data/model/xgb/latest-ok.pkl... | track.operation_id=test_operation_id | track.request_id=test_request_id | track.request_ts=2020-07-08T10:23:19.778396+00:00\n",
      "2020-07-08 10:23:19,784 | INFO | fraud-poc 0.0.1-service live.predict leo-legion 27044 | Connecting to database redis://localhost:6379... | track.operation_id=test_operation_id | track.request_id=test_request_id | track.request_ts=2020-07-08T10:23:19.778396+00:00\n",
      "2020-07-08 10:23:19,786 | INFO | fraud-poc 0.0.1-service live.predict leo-legion 27044 | Looking up features in database... | track.operation_id=test_operation_id | track.request_id=test_request_id | track.request_ts=2020-07-08T10:23:19.778396+00:00\n"
     ]
    },
    {
     "data": {
      "text/plain": [
       "{'order_id': '06989410-e724-4e0e-ac4e-dd7803be453c',\n",
       " 'order_date': '2020-07-08T10:23:19.777759+00:00',\n",
       " 'customer_id': 'd555b585-5511-4a16-9f22-819834110239',\n",
       " 'ip_addr': 'test',\n",
       " 'order_amount': 879.7319538388477,\n",
       " 'email': '1f5d34b02ef1975d5a82dcfe2e53fad6182e118c',\n",
       " 'customer_id_by_email': \"['d555b585-5511-4a16-9f22-819834110239', 'd555b585-5511-4a16-9f22-819834110239', 'd555b585-5511-4a16-9f22-819834110239', 'd555b585-5511-4a16-9f22-819834110239', 'd555b585-5511-4a16-9f22-819834110239', 'd555b585-5511-4a16-9f22-819834110239', 'd555b585-5511-4a16-9f22-819834110239', 'd555b585-5511-4a16-9f22-819834110239', 'd555b585-5511-4a16-9f22-819834110239', 'd555b585-5511-4a16-9f22-819834110239']\",\n",
       " 'num_customer_id_by_email': 1,\n",
       " 'last_customer_id_by_email': 'd555b585-5511-4a16-9f22-819834110239',\n",
       " 'same_customer_id_by_email': 1,\n",
       " 'known_customer_id_by_email': 1,\n",
       " 'order_amount_mean_by_email': 516.7076306505403,\n",
       " 'order_amount_std_by_email': 278.38456075392605,\n",
       " 'order_amount_min_by_email': 13.426760485169664,\n",
       " 'order_amount_max_by_email': 884.064247490211,\n",
       " 'order_amount_sum_by_email': 5167.076306505403,\n",
       " 'order_amount_by_email': '[884.064247490211, 722.9025680336106, 13.426760485169664, 627.8375917324881, 607.0682555756823, 249.78620396645113, 202.94798232836487, 387.7647884248259, 591.5459546297528, 879.7319538388477]',\n",
       " 'key': 'd555b585-5511-4a16-9f22-819834110239',\n",
       " 'email_by_customer_id': \"['239b8d32e104be4b7c0cc65e2cbc1ead42522578', '239b8d32e104be4b7c0cc65e2cbc1ead42522578', 'd33cfd28bb631654b8e59ac97a958555ad39ea78', '1f5d34b02ef1975d5a82dcfe2e53fad6182e118c', '63552fd2e3d7e9e71e761c50f8b7ff1c07f39abb', '239b8d32e104be4b7c0cc65e2cbc1ead42522578', '63552fd2e3d7e9e71e761c50f8b7ff1c07f39abb', '63552fd2e3d7e9e71e761c50f8b7ff1c07f39abb', '63552fd2e3d7e9e71e761c50f8b7ff1c07f39abb', '1f5d34b02ef1975d5a82dcfe2e53fad6182e118c']\",\n",
       " 'ip_addr_by_customer_id': \"['6f63bf7b774f8594744b5d1fc17a0e1c43cfd809', '6f63bf7b774f8594744b5d1fc17a0e1c43cfd809', '1404f14e3e04cdbbfadcd3ea70f014226bb9ac26', '4efa50345ed594d6f817f909e1b60473cb9d6c39', '270e3d5cf5ddfde308b19442e225f8c3b9251ecc', '6f63bf7b774f8594744b5d1fc17a0e1c43cfd809', '785cd9911322a86079b9446e895b535490171a75', '270e3d5cf5ddfde308b19442e225f8c3b9251ecc', '5c30206672cf95de1e41294ef3391a0f369e5fc8', '4efa50345ed594d6f817f909e1b60473cb9d6c39']\",\n",
       " 'num_email_by_customer_id': 4,\n",
       " 'num_ip_addr_by_customer_id': 6,\n",
       " 'last_email_by_customer_id': '63552fd2e3d7e9e71e761c50f8b7ff1c07f39abb',\n",
       " 'last_ip_addr_by_customer_id': '5c30206672cf95de1e41294ef3391a0f369e5fc8',\n",
       " 'same_email_by_customer_id': 0,\n",
       " 'same_ip_addr_by_customer_id': 0,\n",
       " 'known_email_by_customer_id': 1,\n",
       " 'known_ip_addr_by_customer_id': 1,\n",
       " 'order_amount_mean_by_customer_id': 448.4904703388755,\n",
       " 'order_amount_std_by_customer_id': 236.98774398112243,\n",
       " 'order_amount_min_by_customer_id': 147.61131120991155,\n",
       " 'order_amount_max_by_customer_id': 879.7319538388477,\n",
       " 'order_amount_sum_by_customer_id': 4484.9047033887555,\n",
       " 'order_amount_by_customer_id': '[402.4348689727, 648.5861853978612, 147.61131120991155, 591.5459546297528, 214.33601894031463, 690.3395151993851, 453.97520881198227, 305.8898989967592, 150.4537873912415, 879.7319538388477]',\n",
       " 'amount': 100.0,\n",
       " 'location_lat': 0.0,\n",
       " 'location_long': 0.0,\n",
       " 'is_fraud': 0.5427739024162292}"
      ]
     },
     "execution_count": null,
     "metadata": {},
     "output_type": "execute_result"
    }
   ],
   "source": [
    "from hopeit.testing.apps import config, execute_event\n",
    "from fraud_poc.live.predict import OrderInfo\n",
    "import uuid\n",
    " \n",
    "def new_key(): return str(uuid.uuid4())\n",
    "\n",
    "app_config = config('config/fraud-service.json')\n",
    "payload = OrderInfo(\n",
    "    order_id=new_key(),\n",
    "    customer_id='d555b585-5511-4a16-9f22-819834110239',\n",
    "    order_date=datetime.now(tz=timezone.utc),\n",
    "    email='1f5d34b02ef1975d5a82dcfe2e53fad6182e118c',\n",
    "    ip_addr='test',\n",
    "    amount=100.0,\n",
    "    location_lat=0.0,\n",
    "    location_long=0.0\n",
    ") \n",
    "\n",
    "result = await execute_event(app_config, 'live.predict', payload)\n",
    "result"
   ]
  },
  {
   "cell_type": "code",
   "execution_count": null,
   "metadata": {},
   "outputs": [],
   "source": []
  }
 ],
 "metadata": {
  "kernelspec": {
   "display_name": "Python 3",
   "language": "python",
   "name": "python3"
  }
 },
 "nbformat": 4,
 "nbformat_minor": 4
}
