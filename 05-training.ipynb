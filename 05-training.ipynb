{
 "cells": [
  {
   "cell_type": "code",
   "execution_count": 1,
   "metadata": {},
   "outputs": [],
   "source": [
    "from typing import List, Optional, Generator\n",
    "from datetime import datetime, timezone, timedelta\n",
    "import random\n",
    "import uuid\n",
    "import hashlib\n",
    "import os\n",
    "import math\n",
    "import pickle\n",
    "\n",
    "import numpy as np\n",
    "import pandas as pd\n",
    "import dask\n",
    "import xgboost\n",
    "import dask_xgboost\n",
    "from dask.distributed import Client, progress\n",
    "from pathlib import Path\n",
    "import dask.dataframe as dd\n",
    "from dask import delayed\n",
    "from dask_ml.model_selection import train_test_split\n",
    "\n"
   ]
  },
  {
   "cell_type": "code",
   "execution_count": 2,
   "metadata": {},
   "outputs": [
    {
     "data": {
      "text/html": [
       "<table style=\"border: 2px solid white;\">\n",
       "<tr>\n",
       "<td style=\"vertical-align: top; border: 0px solid white\">\n",
       "<h3 style=\"text-align: left;\">Client</h3>\n",
       "<ul style=\"text-align: left; list-style: none; margin: 0; padding: 0;\">\n",
       "  <li><b>Scheduler: </b>tcp://127.0.0.1:33193</li>\n",
       "  <li><b>Dashboard: </b><a href='http://127.0.0.1:8787/status' target='_blank'>http://127.0.0.1:8787/status</a></li>\n",
       "</ul>\n",
       "</td>\n",
       "<td style=\"vertical-align: top; border: 0px solid white\">\n",
       "<h3 style=\"text-align: left;\">Cluster</h3>\n",
       "<ul style=\"text-align: left; list-style:none; margin: 0; padding: 0;\">\n",
       "  <li><b>Workers: </b>4</li>\n",
       "  <li><b>Cores: </b>12</li>\n",
       "  <li><b>Memory: </b>33.54 GB</li>\n",
       "</ul>\n",
       "</td>\n",
       "</tr>\n",
       "</table>"
      ],
      "text/plain": [
       "<Client: 'tcp://127.0.0.1:33193' processes=4 threads=12, memory=33.54 GB>"
      ]
     },
     "execution_count": 2,
     "metadata": {},
     "output_type": "execute_result"
    }
   ],
   "source": [
    "client = Client()\n",
    "client"
   ]
  },
  {
   "cell_type": "code",
   "execution_count": 3,
   "metadata": {},
   "outputs": [
    {
     "name": "stderr",
     "output_type": "stream",
     "text": [
      "/opt/dev/anaconda3/envs/dask/lib/python3.7/site-packages/fastparquet/encoding.py:222: NumbaDeprecationWarning: The 'numba.jitclass' decorator has moved to 'numba.experimental.jitclass' to better reflect the experimental nature of the functionality. Please update your imports to accommodate this change and see http://numba.pydata.org/numba-doc/latest/reference/deprecation.html#change-of-jitclass-location for the time frame.\n",
      "  Numpy8 = numba.jitclass(spec8)(NumpyIO)\n",
      "/opt/dev/anaconda3/envs/dask/lib/python3.7/site-packages/fastparquet/encoding.py:224: NumbaDeprecationWarning: The 'numba.jitclass' decorator has moved to 'numba.experimental.jitclass' to better reflect the experimental nature of the functionality. Please update your imports to accommodate this change and see http://numba.pydata.org/numba-doc/latest/reference/deprecation.html#change-of-jitclass-location for the time frame.\n",
      "  Numpy32 = numba.jitclass(spec32)(NumpyIO)\n",
      "/opt/dev/anaconda3/envs/dask/lib/python3.7/site-packages/fastparquet/dataframe.py:5: FutureWarning: pandas.core.index is deprecated and will be removed in a future version.  The public classes are available in the top-level namespace.\n",
      "  from pandas.core.index import CategoricalIndex, RangeIndex, Index, MultiIndex\n"
     ]
    }
   ],
   "source": [
    "df = dd.read_parquet(f'./data/labeled/sampled/', engine='fastparquet')\n",
    "df_validation = dd.read_parquet(f'./data/labeled/validation/', engine='fastparquet')"
   ]
  },
  {
   "cell_type": "code",
   "execution_count": 4,
   "metadata": {},
   "outputs": [
    {
     "name": "stderr",
     "output_type": "stream",
     "text": [
      "/opt/dev/anaconda3/envs/dask/lib/python3.7/site-packages/dask_ml/model_selection/_split.py:469: FutureWarning: The default value for 'shuffle' must be specified when splitting DataFrames. In the future DataFrames will automatically be shuffled within blocks prior to splitting. Specify 'shuffle=True' to adopt the future behavior now, or 'shuffle=False' to retain the previous behavior.\n",
      "  category=FutureWarning,\n"
     ]
    }
   ],
   "source": [
    "def features_and_labels(df):\n",
    "    X = df[['order_amount', 'emails_by_customer_id', 'ip_addrs_by_customer_id', 'order_amount_mean_by_customer_id',\n",
    "           'order_amount_std_by_customer_id', 'order_amount_min_by_customer_id', 'order_amount_max_by_customer_id',\n",
    "           'order_amount_sum_by_customer_id', 'customer_ids_by_email', 'order_amount_mean_by_email',\n",
    "           'order_amount_std_by_email', 'order_amount_min_by_email', 'order_amount_max_by_email',\n",
    "           'order_amount_sum_by_email']]\n",
    "    y = df[['is_fraud']]\n",
    "    return X, y\n",
    "\n",
    "X, y = features_and_labels(df)\n",
    "X_train, X_test, y_train, y_test = train_test_split(X, y, test_size=0.15)\n"
   ]
  },
  {
   "cell_type": "code",
   "execution_count": 5,
   "metadata": {},
   "outputs": [],
   "source": [
    "#XGBoost\n",
    "params = {'objective': 'binary:logistic',\n",
    "          'max_depth': 4, 'eta': 0.01,\n",
    "          'min_child_weight': 0.5, 'verbosity': 1, 'tree_method': 'hist'}\n",
    "\n",
    "bst = dask_xgboost.train(client, params, X_train, y_train, num_boost_round=4)"
   ]
  },
  {
   "cell_type": "code",
   "execution_count": 6,
   "metadata": {},
   "outputs": [
    {
     "data": {
      "image/png": "[encoded data removed]",
      "text/plain": [
       "<Figure size 432x288 with 1 Axes>"
      ]
     },
     "metadata": {
      "needs_background": "light"
     },
     "output_type": "display_data"
    }
   ],
   "source": [
    "%matplotlib inline\n",
    "import matplotlib.pyplot as plt\n",
    "\n",
    "ax = xgboost.plot_importance(bst, height=0.8, max_num_features=9)\n",
    "ax.grid(False, axis=\"y\")\n",
    "ax.set_title('Estimated feature importance')\n",
    "plt.show()"
   ]
  },
  {
   "cell_type": "code",
   "execution_count": 7,
   "metadata": {},
   "outputs": [],
   "source": [
    "y_hat = dask_xgboost.predict(client, bst, X_test).persist()"
   ]
  },
  {
   "cell_type": "code",
   "execution_count": 8,
   "metadata": {},
   "outputs": [],
   "source": [
    "# #SVC\n",
    "# from sklearn.svm import SVC\n",
    "# from sklearn.model_selection import GridSearchCV\n",
    "\n",
    "# param_grid = {\"C\": [0.001, 0.01, 0.1, 0.5, 1.0, 2.0, 5.0, 10.0],\n",
    "#               \"kernel\": ['rbf', 'poly', 'sigmoid'],\n",
    "#               \"shrinking\": [True, False]}\n",
    "\n",
    "# grid_search = GridSearchCV(SVC(gamma='auto', random_state=0, probability=True),\n",
    "#                            param_grid=param_grid,\n",
    "#                            return_train_score=False,\n",
    "#                            iid=True,\n",
    "#                            cv=3,\n",
    "#                            n_jobs=-1)\n",
    "\n",
    "# import joblib\n",
    "\n",
    "# #with joblib.parallel_backend('dask'):\n",
    "# #    grid_search.fit(X_train, y_train)\n",
    "# grid_search.fit(X_train, y_train)\n",
    "# y_hat = grid_search.predict(X_test)"
   ]
  },
  {
   "cell_type": "code",
   "execution_count": 9,
   "metadata": {},
   "outputs": [
    {
     "data": {
      "image/png": "[encoded data removed]",
      "text/plain": [
       "<Figure size 360x360 with 1 Axes>"
      ]
     },
     "metadata": {
      "needs_background": "light"
     },
     "output_type": "display_data"
    }
   ],
   "source": [
    "from sklearn.metrics import roc_curve\n",
    "\n",
    "y_test, y_hat = dask.compute(y_test, y_hat)\n",
    "fpr, tpr, _ = roc_curve(y_test, y_hat)\n",
    "\n",
    "from sklearn.metrics import auc\n",
    "\n",
    "fig, ax = plt.subplots(figsize=(5, 5))\n",
    "ax.plot(fpr, tpr, lw=3,\n",
    "        label='ROC Curve (area = {:.2f})'.format(auc(fpr, tpr)))\n",
    "ax.plot([0, 1], [0, 1], 'k--', lw=2)\n",
    "ax.set(\n",
    "    xlim=(0, 1),\n",
    "    ylim=(0, 1),\n",
    "    title=\"ROC Curve\",\n",
    "    xlabel=\"False Positive Rate\",\n",
    "    ylabel=\"True Positive Rate\",\n",
    ")\n",
    "ax.legend();\n",
    "plt.show()"
   ]
  },
  {
   "cell_type": "code",
   "execution_count": 10,
   "metadata": {},
   "outputs": [
    {
     "name": "stdout",
     "output_type": "stream",
     "text": [
      "TEST: Average precision-recall score:0.83 precision: 0.83 recall: 0.83 f1: 0.83\n"
     ]
    }
   ],
   "source": [
    "from sklearn.metrics import average_precision_score, f1_score, precision_score, recall_score\n",
    "f1 = f1_score(y_test, np.around(y_hat))\n",
    "precision = precision_score(y_test, np.around(y_hat))\n",
    "recall = recall_score(y_test, np.around(y_hat))\n",
    "\n",
    "average_precision = average_precision_score(y_test, y_hat)\n",
    "\n",
    "print('TEST: Average precision-recall score:{0:0.2f} precision:{1: 0.2f} recall:{1: 0.2f} f1:{1: 0.2f}'.format(\n",
    "      average_precision, precision, recall, f1))"
   ]
  },
  {
   "cell_type": "code",
   "execution_count": 11,
   "metadata": {},
   "outputs": [],
   "source": [
    "# Validation with larger and recent data\n",
    "X_valid, y_valid = features_and_labels(df_validation)\n",
    "y_pred = dask_xgboost.predict(client, bst, X_valid).persist()\n",
    "y_valid, y_pred = dask.compute(y_valid, y_pred)"
   ]
  },
  {
   "cell_type": "code",
   "execution_count": 12,
   "metadata": {},
   "outputs": [
    {
     "name": "stdout",
     "output_type": "stream",
     "text": [
      "VALIDATION: Average precision-recall score:0.50 precision: 0.49 recall: 0.49 f1: 0.49\n"
     ]
    }
   ],
   "source": [
    "f1 = f1_score(y_valid, np.around(y_pred))\n",
    "precision = precision_score(y_valid, np.around(y_pred))\n",
    "recall = recall_score(y_valid, np.around(y_pred))\n",
    "\n",
    "average_precision = average_precision_score(y_valid, y_pred)\n",
    "\n",
    "print('VALIDATION: Average precision-recall score:{0:0.2f} precision:{1: 0.2f} recall:{1: 0.2f} f1:{1: 0.2f}'.format(\n",
    "      average_precision, precision, recall, f1))"
   ]
  },
  {
   "cell_type": "code",
   "execution_count": 13,
   "metadata": {},
   "outputs": [],
   "source": [
    "os.makedirs('./data/model/xgb/', exist_ok=True)\n",
    "with open('./data/model/xgb/bst.pkl', 'wb') as fb:\n",
    "    pickle.dump(bst, fb)"
   ]
  },
  {
   "cell_type": "code",
   "execution_count": null,
   "metadata": {},
   "outputs": [],
   "source": []
  }
 ],
 "metadata": {
  "kernelspec": {
   "display_name": "Python 3",
   "language": "python",
   "name": "python3"
  },
  "language_info": {
   "codemirror_mode": {
    "name": "ipython",
    "version": 3
   },
   "file_extension": ".py",
   "mimetype": "text/x-python",
   "name": "python",
   "nbconvert_exporter": "python",
   "pygments_lexer": "ipython3",
   "version": "3.7.7"
  }
 },
 "nbformat": 4,
 "nbformat_minor": 4
}
