{
 "cells": [
  {
   "cell_type": "code",
   "execution_count": null,
   "metadata": {},
   "outputs": [
    {
     "name": "stdout",
     "output_type": "stream",
     "text": [
      "Converted 00_jobs.ipynb.\n",
      "Converted 01_create-sample-data.ipynb.\n",
      "Converted 02_preprocess.ipynb.\n",
      "Converted 03_feature-calc.ipynb.\n",
      "Converted 04_training-data.ipynb.\n",
      "Converted 05_train-model.ipynb.\n",
      "Converted 06_submit-training-pipeline.ipynb.\n",
      "Converted 07_prepare-db.ipynb.\n",
      "Converted 08_predict.ipynb.\n",
      "Converted 09_find-orders.ipynb.\n",
      "Converted 20_diagramas.ipynb.\n",
      "Converted 99_tools.ipynb.\n",
      "Converted index.ipynb.\n",
      "2021-05-19 08:32:27,260 | INFO | hopeit.engine 0.3.0rc8 openapi ALT00617 83855 | [hopeit.cli.openapi] openapi.update | \n",
      "2021-05-19 08:32:27,260 | INFO | hopeit.engine 0.3.0rc8 openapi ALT00617 83855 | [hopeit.server.api] Creating Open API spec... | \n",
      "2021-05-19 08:32:27,260 | INFO | hopeit.engine 0.3.0rc8 openapi ALT00617 83855 | [hopeit.server.api] API: openapi=3.0.3, API version=0.1.0 | \n",
      "2021-05-19 08:32:27,322 | INFO | hopeit.engine 0.3.0rc8 openapi ALT00617 83855 | [hopeit.server.api] Registering apps... | \n",
      "2021-05-19 08:32:27,322 | INFO | hopeit.engine 0.3.0rc8 openapi ALT00617 83855 | [hopeit.server.api] Updating API spec for app=fraud_poc.training... | \n",
      "2021-05-19 08:32:27,975 | INFO | hopeit.engine 0.3.0rc8 openapi ALT00617 83855 | [hopeit.server.api] Set API version=0.1.0... | \n",
      "2021-05-19 08:32:27,976 | INFO | hopeit.engine 0.3.0rc8 openapi ALT00617 83855 | [hopeit.server.api] Saving api spec to api_file=config/openapi-training.json... | \n",
      "2021-05-19 08:32:28,681 | INFO | hopeit.engine 0.3.0rc8 openapi ALT00617 83856 | [hopeit.cli.openapi] openapi.update | \n",
      "2021-05-19 08:32:28,681 | INFO | hopeit.engine 0.3.0rc8 openapi ALT00617 83856 | [hopeit.server.api] Creating Open API spec... | \n",
      "2021-05-19 08:32:28,682 | INFO | hopeit.engine 0.3.0rc8 openapi ALT00617 83856 | [hopeit.server.api] API: openapi=3.0.3, API version=0.1.0 | \n",
      "2021-05-19 08:32:28,710 | INFO | hopeit.engine 0.3.0rc8 openapi ALT00617 83856 | [hopeit.server.api] Registering apps... | \n",
      "2021-05-19 08:32:28,710 | INFO | hopeit.engine 0.3.0rc8 openapi ALT00617 83856 | [hopeit.server.api] Updating API spec for app=fraud_poc.service... | \n",
      "2021-05-19 08:32:29,445 | INFO | hopeit.engine 0.3.0rc8 openapi ALT00617 83856 | [hopeit.server.api] Set API version=0.1.0... | \n",
      "2021-05-19 08:32:29,445 | INFO | hopeit.engine 0.3.0rc8 openapi ALT00617 83856 | [hopeit.server.api] Saving api spec to api_file=config/openapi-service.json... | \n",
      "No notebooks were modified\n",
      "converting /Users/dev/leosmerling/fraud-poc/index.ipynb to README.md\n"
     ]
    }
   ],
   "source": [
    "# Update python modules from notebook and creates openapi-*.json files\n",
    "\n",
    "!nbdev_build_lib\n",
    "!export PYTHONPATH=. && hopeit_openapi create --config-files=config/server.json,config/training-pipeline.json --api-version=0.1.0 --title=\"Fraud POC Training Pipeline\" --description=\"Fraud POC\" --output-file config/openapi-training.json\n",
    "!export PYTHONPATH=. && hopeit_openapi create --config-files=config/server.json,config/fraud-service.json --api-version=0.1.0 --title=\"Fraud POC Live Service\" --description=\"Fraud POC\" --output-file config/openapi-service.json\n",
    "!nbdev_build_docs\n"
   ]
  },
  {
   "cell_type": "code",
   "execution_count": null,
   "metadata": {},
   "outputs": [],
   "source": []
  }
 ],
 "metadata": {
  "kernelspec": {
   "display_name": "Python 3",
   "language": "python",
   "name": "python3"
  }
 },
 "nbformat": 4,
 "nbformat_minor": 4
}
