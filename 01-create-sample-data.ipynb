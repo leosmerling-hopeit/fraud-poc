{
 "cells": [
  {
   "cell_type": "code",
   "execution_count": 1,
   "metadata": {},
   "outputs": [],
   "source": [
    "from typing import List, Optional, Generator\n",
    "from datetime import datetime, timezone, timedelta\n",
    "import random\n",
    "import uuid\n",
    "import hashlib\n",
    "import os\n",
    "\n",
    "import numpy as np\n",
    "import pandas as pd\n",
    "from dask.distributed import Client\n",
    "from pathlib import Path\n",
    "import dask.dataframe as dd\n",
    "from dask import delayed\n",
    "\n",
    "data_path = './data/raw'\n",
    "os.makedirs(data_path, exist_ok=True)"
   ]
  },
  {
   "cell_type": "code",
   "execution_count": 2,
   "metadata": {},
   "outputs": [
    {
     "data": {
      "text/html": [
       "<table style=\"border: 2px solid white;\">\n",
       "<tr>\n",
       "<td style=\"vertical-align: top; border: 0px solid white\">\n",
       "<h3 style=\"text-align: left;\">Client</h3>\n",
       "<ul style=\"text-align: left; list-style: none; margin: 0; padding: 0;\">\n",
       "  <li><b>Scheduler: </b>tcp://127.0.0.1:42863</li>\n",
       "  <li><b>Dashboard: </b><a href='http://127.0.0.1:8787/status' target='_blank'>http://127.0.0.1:8787/status</a></li>\n",
       "</ul>\n",
       "</td>\n",
       "<td style=\"vertical-align: top; border: 0px solid white\">\n",
       "<h3 style=\"text-align: left;\">Cluster</h3>\n",
       "<ul style=\"text-align: left; list-style:none; margin: 0; padding: 0;\">\n",
       "  <li><b>Workers: </b>4</li>\n",
       "  <li><b>Cores: </b>12</li>\n",
       "  <li><b>Memory: </b>33.54 GB</li>\n",
       "</ul>\n",
       "</td>\n",
       "</tr>\n",
       "</table>"
      ],
      "text/plain": [
       "<Client: 'tcp://127.0.0.1:42863' processes=4 threads=12, memory=33.54 GB>"
      ]
     },
     "execution_count": 2,
     "metadata": {},
     "output_type": "execute_result"
    }
   ],
   "source": [
    "client = Client()\n",
    "client"
   ]
  },
  {
   "cell_type": "code",
   "execution_count": 3,
   "metadata": {},
   "outputs": [],
   "source": [
    "class OrderRandomSource:\n",
    "    @staticmethod\n",
    "    def new_uuid(): return str(uuid.uuid4())\n",
    "    \n",
    "    @staticmethod\n",
    "    def new_hash(): return hashlib.sha1(str(uuid.uuid4()).encode()).hexdigest()\n",
    "\n",
    "    def __init__(self, num_customers:int = 10000, num_ips:int = 10000, num_emails:int = 50000, \n",
    "                 days_ago:int = 0, days_span:int = 30):\n",
    "        self.num_customers = num_customers\n",
    "        self.num_ips = num_ips\n",
    "        self.num_emails = num_emails\n",
    "        self.lat_min, self.lat_max = -20., -10.\n",
    "        self.long_min, self.long_max = -20., -10.\n",
    "        self.to_date = datetime.now(tz=timezone.utc) - timedelta(days=days_ago)\n",
    "        self.to_date_epoch = int(self.to_date.timestamp())\n",
    "        self.from_date = self.to_date - timedelta(days=days_span)\n",
    "        self.from_date_epoch = int(self.from_date.timestamp())\n",
    "        self.customer_ids = [self.new_uuid() for i in range(self.num_customers)]\n",
    "        self.emails = [self.new_hash() for i in range(self.num_emails)]\n",
    "        self.email_to_customer = [self.customer_ids[random.randint(0, self.num_customers-1)] for i in range(self.num_emails)]\n",
    "        self.ips = [self.new_hash() for i in range(self.num_ips)]\n",
    "        self.email_to_ip = [self.ips[random.randint(0, num_ips-1)] for i in range(self.num_emails)] \n",
    "    \n",
    "    def random_order(self):\n",
    "        email_idx = random.randint(0, self.num_emails-1)\n",
    "        email = self.emails[email_idx]\n",
    "        customer_id = self.email_to_customer[email_idx]\n",
    "        ip_addr = self.email_to_ip[email_idx] if random.random() > 0.1 else self.new_hash()\n",
    "        date_epoch = random.randint(self.from_date_epoch, self.to_date_epoch)\n",
    "        date = datetime.fromtimestamp(date_epoch, tz=timezone.utc)\n",
    "        lat = self.lat_min + random.random() * (self.lat_max - self.lat_min)\n",
    "        long = self.long_min + random.random() * (self.long_max - self.long_min)\n",
    "        amount = random.random() * 1000.\n",
    "        return {\n",
    "            'order_id': self.new_uuid(),\n",
    "            'order_date': date,\n",
    "            'customer_id': customer_id,\n",
    "            'email': email,\n",
    "            'ip_addr': ip_addr,\n",
    "            'location_lat': lat,\n",
    "            'location_long': long,\n",
    "            'order_amount': amount\n",
    "        }\n",
    "\n",
    "    def _generate_orders(self, n: int):\n",
    "        for _ in range(n):\n",
    "            yield self.random_order()\n",
    "\n",
    "    def __call__(self, n: int):\n",
    "        return pd.DataFrame(self._generate_orders(n))\n",
    "\n",
    "    @staticmethod\n",
    "    def meta(): \n",
    "        return {'order_id': object, \n",
    "               'order_date': 'datetime64[ns, UTC]', \n",
    "               'customer_id': object, \n",
    "               'email': object, \n",
    "               'ip_addr': object, \n",
    "               'location_lat': float, \n",
    "               'location_long': float, \n",
    "               'order_amount': float}"
   ]
  },
  {
   "cell_type": "code",
   "execution_count": 4,
   "metadata": {},
   "outputs": [],
   "source": [
    "def make_batch(i: int, size: int):\n",
    "    print(\"Making batch\", i)\n",
    "    days_ago = i * 7\n",
    "    random_orders = OrderRandomSource(days_ago=days_ago)\n",
    "    df = random_orders(size) #, meta=random_orders.meta())\n",
    "    df.to_parquet(f'{data_path}/batch{i:02}.parquet', engine='fastparquet', compression='LZ4')"
   ]
  },
  {
   "cell_type": "code",
   "execution_count": 6,
   "metadata": {},
   "outputs": [],
   "source": [
    "num_batches = 52\n",
    "bs = 100000\n",
    "batches = []\n",
    "\n",
    "for i in range(num_batches):\n",
    "    batches.append(delayed(make_batch)(i, bs))\n",
    "    \n",
    "dfs = dd.compute(*batches)"
   ]
  },
  {
   "cell_type": "code",
   "execution_count": null,
   "metadata": {},
   "outputs": [],
   "source": []
  },
  {
   "cell_type": "code",
   "execution_count": null,
   "metadata": {},
   "outputs": [],
   "source": []
  }
 ],
 "metadata": {
  "kernelspec": {
   "display_name": "Python 3",
   "language": "python",
   "name": "python3"
  },
  "language_info": {
   "codemirror_mode": {
    "name": "ipython",
    "version": 3
   },
   "file_extension": ".py",
   "mimetype": "text/x-python",
   "name": "python",
   "nbconvert_exporter": "python",
   "pygments_lexer": "ipython3",
   "version": "3.7.7"
  }
 },
 "nbformat": 4,
 "nbformat_minor": 4
}
