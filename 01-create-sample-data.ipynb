{
 "cells": [
  {
   "cell_type": "code",
   "execution_count": null,
   "metadata": {},
   "outputs": [],
   "source": [
    "#default_exp data.make_sample_data"
   ]
  },
  {
   "cell_type": "code",
   "execution_count": null,
   "metadata": {},
   "outputs": [
    {
     "name": "stdout",
     "output_type": "stream",
     "text": [
      "Converted 00_jobs.ipynb.\n",
      "Converted 01-create-sample-data.ipynb.\n",
      "Converted 02-preprocess.ipynb.\n",
      "Converted 03-feature-extraction.ipynb.\n",
      "Converted 04-label-folds.ipynb.\n",
      "Converted 05-training.ipynb.\n",
      "Converted index.ipynb.\n"
     ]
    }
   ],
   "source": [
    "!nbdev_build_lib"
   ]
  },
  {
   "cell_type": "code",
   "execution_count": null,
   "metadata": {},
   "outputs": [],
   "source": [
    "#export\n",
    "from datetime import datetime, timezone, timedelta\n",
    "import random\n",
    "import uuid\n",
    "import hashlib\n",
    "import os\n",
    "\n",
    "import numpy as np\n",
    "import pandas as pd\n",
    "\n",
    "from hopeit.app.context import EventContext\n",
    "from hopeit.app.events import Spawn, SHUFFLE\n",
    "from hopeit.app.api import event_api\n",
    "from hopeit.app.logger import app_logger\n",
    "\n",
    "from fraud_poc.jobs import get_client_async, MakeSampleDataJob"
   ]
  },
  {
   "cell_type": "code",
   "execution_count": null,
   "metadata": {},
   "outputs": [],
   "source": [
    "#export\n",
    "__steps__ = ['submit_job', SHUFFLE, 'make_batches']\n",
    "\n",
    "__api__ = event_api(\n",
    "    title=\"Data: Make sample data\",\n",
    "    query_args=[\n",
    "        (\"num_batches\", int, \"Number of batches/files to make\"),\n",
    "        (\"batch_size\", int, \"Number of rows per batch\"),\n",
    "        (\"batch_span_days\", int, \"Number of time span in days for order_date in batch\")\n",
    "    ],\n",
    "    responses={\n",
    "        200: (MakeSampleDataJob, \"Job submitted\")\n",
    "    }\n",
    ")\n",
    "\n",
    "logger = app_logger()"
   ]
  },
  {
   "cell_type": "code",
   "execution_count": null,
   "metadata": {},
   "outputs": [],
   "source": [
    "#export\n",
    "class OrderRandomSource:\n",
    "    @staticmethod\n",
    "    def new_uuid(): return str(uuid.uuid4())\n",
    "    \n",
    "    @staticmethod\n",
    "    def new_hash(): return hashlib.sha1(str(uuid.uuid4()).encode()).hexdigest()\n",
    "\n",
    "    def __init__(self, num_customers:int = 10000, num_ips:int = 10000, num_emails:int = 50000, \n",
    "                 days_ago:int = 0, days_span:int = 30):\n",
    "        self.num_customers = num_customers\n",
    "        self.num_ips = num_ips\n",
    "        self.num_emails = num_emails\n",
    "        self.lat_min, self.lat_max = -20., -10.\n",
    "        self.long_min, self.long_max = -20., -10.\n",
    "        self.to_date = datetime.now(tz=timezone.utc) - timedelta(days=days_ago)\n",
    "        self.to_date_epoch = int(self.to_date.timestamp())\n",
    "        self.from_date = self.to_date - timedelta(days=days_span)\n",
    "        self.from_date_epoch = int(self.from_date.timestamp())\n",
    "        self.customer_ids = [self.new_uuid() for i in range(self.num_customers)]\n",
    "        self.emails = [self.new_hash() for i in range(self.num_emails)]\n",
    "        self.email_to_customer = [self.customer_ids[random.randint(0, self.num_customers-1)] for i in range(self.num_emails)]\n",
    "        self.ips = [self.new_hash() for i in range(self.num_ips)]\n",
    "        self.email_to_ip = [self.ips[random.randint(0, num_ips-1)] for i in range(self.num_emails)] \n",
    "    \n",
    "    def random_order(self):\n",
    "        email_idx = random.randint(0, self.num_emails-1)\n",
    "        email = self.emails[email_idx]\n",
    "        customer_id = self.email_to_customer[email_idx]\n",
    "        ip_addr = self.email_to_ip[email_idx] if random.random() > 0.1 else self.new_hash()\n",
    "        date_epoch = random.randint(self.from_date_epoch, self.to_date_epoch)\n",
    "        date = datetime.fromtimestamp(date_epoch, tz=timezone.utc)\n",
    "        lat = self.lat_min + random.random() * (self.lat_max - self.lat_min)\n",
    "        long = self.long_min + random.random() * (self.long_max - self.long_min)\n",
    "        amount = random.random() * 1000.\n",
    "        return {\n",
    "            'order_id': self.new_uuid(),\n",
    "            'order_date': date,\n",
    "            'customer_id': customer_id,\n",
    "            'email': email,\n",
    "            'ip_addr': ip_addr,\n",
    "            'location_lat': lat,\n",
    "            'location_long': long,\n",
    "            'order_amount': amount\n",
    "        }\n",
    "\n",
    "    def _generate_orders(self, n: int):\n",
    "        for _ in range(n):\n",
    "            yield self.random_order()\n",
    "\n",
    "    def __call__(self, n: int):\n",
    "        return pd.DataFrame(self._generate_orders(n))\n",
    "\n",
    "    @staticmethod\n",
    "    def meta(): \n",
    "        return {'order_id': object, \n",
    "               'order_date': 'datetime64[ns, UTC]', \n",
    "               'customer_id': object, \n",
    "               'email': object, \n",
    "               'ip_addr': object, \n",
    "               'location_lat': float, \n",
    "               'location_long': float, \n",
    "               'order_amount': float}"
   ]
  },
  {
   "cell_type": "code",
   "execution_count": null,
   "metadata": {},
   "outputs": [],
   "source": [
    "#export\n",
    "def _make_batch(path: str, i: int, size: int, span_days: int):\n",
    "    os.makedirs(path, exist_ok=True)\n",
    "    days_ago = i * span_days\n",
    "    random_orders = OrderRandomSource(days_ago=days_ago)\n",
    "    df = random_orders(size) #, meta=random_orders.meta())\n",
    "    file_name = f'{path}/batch{i:02}.parquet'\n",
    "    df.to_parquet(file_name, engine='fastparquet', compression='LZ4')\n",
    "    return file_name"
   ]
  },
  {
   "cell_type": "code",
   "execution_count": null,
   "metadata": {},
   "outputs": [],
   "source": [
    "#export\n",
    "async def submit_job(payload: None, context: EventContext, \n",
    "                     num_batches: int = 12, batch_size: int = 100000, batch_span_days: int = 30) -> MakeSampleDataJob:\n",
    "    path = context.env['data']['raw']\n",
    "    return MakeSampleDataJob(path, int(num_batches), int(batch_size), int(batch_span_days))\n",
    "\n",
    "async def make_batches(job: MakeSampleDataJob, context: EventContext) -> MakeSampleDataJob:\n",
    "    logger.info(context, f\"Executing: {job}...\")\n",
    "    client = await get_client_async(context)\n",
    "    logger.info(context, f\"Dask: {client}\")\n",
    "    try:\n",
    "        batches = []\n",
    "        for i in range(job.num_batches):\n",
    "            logger.info(context, f\"Submitting batch {i}...\")\n",
    "            batches.append(\n",
    "                client.submit(_make_batch, job.path, i, job.batch_size, job.batch_span_days)\n",
    "            )\n",
    "\n",
    "        for batch in batches:\n",
    "            res = await batch\n",
    "            logger.info(context, f\"Done batch: {res}.\")\n",
    "        #dfs = await client.gather(*batches)\n",
    "        return job\n",
    "    except Exception as e:\n",
    "        logger.error(context, e)\n",
    "        return None\n",
    "    finally:\n",
    "        await client.close()"
   ]
  },
  {
   "cell_type": "code",
   "execution_count": null,
   "metadata": {},
   "outputs": [],
   "source": []
  },
  {
   "cell_type": "code",
   "execution_count": null,
   "metadata": {},
   "outputs": [],
   "source": []
  }
 ],
 "metadata": {
  "kernelspec": {
   "display_name": "Python 3",
   "language": "python",
   "name": "python3"
  }
 },
 "nbformat": 4,
 "nbformat_minor": 4
}
