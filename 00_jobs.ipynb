{
 "cells": [
  {
   "cell_type": "code",
   "execution_count": null,
   "metadata": {},
   "outputs": [],
   "source": [
    "# default_exp jobs"
   ]
  },
  {
   "cell_type": "markdown",
   "metadata": {},
   "source": [
    "### Jobs Management\n",
    "> Use only for POC purposes."
   ]
  },
  {
   "cell_type": "code",
   "execution_count": null,
   "metadata": {},
   "outputs": [],
   "source": [
    "#export\n",
    "from typing import Dict, Optional\n",
    "\n",
    "from hopeit.app.context import EventContext\n",
    "from dataclasses import dataclass, field\n",
    "from hopeit.dataobjects import dataobject"
   ]
  },
  {
   "cell_type": "code",
   "execution_count": null,
   "metadata": {},
   "outputs": [],
   "source": [
    "#export\n",
    "async def get_client_async(context: Optional[EventContext] = None):\n",
    "    from dask.distributed import Client\n",
    "    url = \"local\" if context is None else context.env['dask']['url']\n",
    "    if url == \"local\":\n",
    "        client = await Client(asynchronous=True)\n",
    "    else:\n",
    "        client = await Client(url, asynchronous=True)\n",
    "    return client\n",
    "\n",
    "def get_client(context: Optional[EventContext] = None):\n",
    "    from dask.distributed import Client\n",
    "    url = \"local\" if context is None else context.env['dask']['url']\n",
    "    if url == \"local\":\n",
    "        client = Client()\n",
    "    else:\n",
    "        client = Client(url)\n",
    "    return client\n",
    "\n"
   ]
  },
  {
   "cell_type": "code",
   "execution_count": null,
   "metadata": {},
   "outputs": [],
   "source": [
    "#export\n",
    "@dataobject\n",
    "@dataclass\n",
    "class MakeSampleDataJob:\n",
    "    path: str\n",
    "    num_batches: int\n",
    "    batch_size: int\n",
    "    batch_span_days: int\n",
    "    num_customers: int\n",
    "    num_emails: int\n",
    "    num_ips: int"
   ]
  },
  {
   "cell_type": "code",
   "execution_count": null,
   "metadata": {},
   "outputs": [],
   "source": [
    "#export\n",
    "@dataobject\n",
    "@dataclass\n",
    "class PreprocessingJob:\n",
    "    source: str\n",
    "    partitioned: Dict[str, str] = field(default_factory=dict)"
   ]
  },
  {
   "cell_type": "code",
   "execution_count": null,
   "metadata": {},
   "outputs": [],
   "source": [
    "#export\n",
    "@dataobject\n",
    "@dataclass\n",
    "class FeatureCalcJob:\n",
    "    sources: Dict[str, str] = field(default_factory=dict)\n",
    "    features: Dict[str, str] = field(default_factory=dict)"
   ]
  },
  {
   "cell_type": "code",
   "execution_count": null,
   "metadata": {},
   "outputs": [],
   "source": [
    "#export\n",
    "@dataobject\n",
    "@dataclass\n",
    "class TrainingDataJob:\n",
    "    sources: Dict[str, str]\n",
    "    sampled: str\n",
    "    validation: str"
   ]
  },
  {
   "cell_type": "code",
   "execution_count": null,
   "metadata": {},
   "outputs": [],
   "source": []
  }
 ],
 "metadata": {
  "kernelspec": {
   "display_name": "Python 3",
   "language": "python",
   "name": "python3"
  }
 },
 "nbformat": 4,
 "nbformat_minor": 4
}
