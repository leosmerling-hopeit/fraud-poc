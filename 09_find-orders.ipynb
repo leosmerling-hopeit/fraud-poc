{
 "cells": [
  {
   "cell_type": "code",
   "execution_count": null,
   "metadata": {},
   "outputs": [],
   "source": [
    "#default_exp test.find_orders"
   ]
  },
  {
   "cell_type": "markdown",
   "metadata": {},
   "source": [
    "# Find Orders\n",
    "\n",
    "> Convenience endpoint to find order examples in Redis database"
   ]
  },
  {
   "cell_type": "code",
   "execution_count": null,
   "metadata": {},
   "outputs": [],
   "source": [
    "#export\n",
    "from typing import Dict, List\n",
    "from datetime import datetime, timezone, timedelta\n",
    "import os\n",
    "import json\n",
    "import pickle\n",
    "import aioredis\n",
    "from dataclasses import dataclass\n",
    "from hopeit.dataobjects import dataobject\n",
    "from hopeit.server.serialization import serialize, Serialization, deserialize\n",
    "from hopeit.server.compression import Compression\n",
    "from hopeit.app.context import EventContext, PostprocessHook\n",
    "from hopeit.app.api import event_api\n",
    "from hopeit.app.logger import app_logger\n",
    "\n",
    "from fraud_poc.live.predict import OrderInfo"
   ]
  },
  {
   "cell_type": "code",
   "execution_count": null,
   "metadata": {},
   "outputs": [],
   "source": [
    "#export\n",
    "__steps__ = ['scan_db']\n",
    "\n",
    "__api__ = event_api(\n",
    "    summary=\"Test: Find Orders\",\n",
    "    query_args=[\n",
    "        (\"prefix\", str, \"Prefix for customer_id or email with * as a wildcard\"),\n",
    "        (\"num_items\", int, \"Number of items to retrieve\")\n",
    "    ],\n",
    "    responses={\n",
    "        200: (List[OrderInfo], \"list of orders\")\n",
    "    }\n",
    ")\n",
    "\n",
    "logger = app_logger()\n",
    "\n",
    "db = None\n",
    "cur = b'0'\n"
   ]
  },
  {
   "cell_type": "code",
   "execution_count": null,
   "metadata": {},
   "outputs": [],
   "source": [
    "#export\n",
    "async def scan_db(payload: None, context: EventContext, prefix: str, num_items: int):\n",
    "    address = context.env['db']['url']\n",
    "    logger.info(context, f\"Connecting to database {address}...\")\n",
    "    results = []\n",
    "    redis = await aioredis.create_redis(address)\n",
    "    cur = b'0'  # set initial cursor to 0\n",
    "    for i in range(int(num_items)):\n",
    "        cur, keys = await redis.scan(cur, match=f'{prefix}*')\n",
    "        if cur is None: break\n",
    "    print(keys)\n",
    "    for k in keys:\n",
    "        try:\n",
    "            item = await redis.get(k)            \n",
    "            item = deserialize(item, Serialization.PICKLE4, Compression.LZ4, dict)\n",
    "            results.append(OrderInfo.from_dict({'location_lat': 0.0, 'location_long': 0.0, **item}))\n",
    "        except Exception as e:\n",
    "            pass # Ignoring items that are not orders, this is just a test method\n",
    "    return results"
   ]
  },
  {
   "cell_type": "markdown",
   "metadata": {},
   "source": [
    "### Test from notebook"
   ]
  },
  {
   "cell_type": "code",
   "execution_count": null,
   "metadata": {},
   "outputs": [
    {
     "name": "stderr",
     "output_type": "stream",
     "text": [
      "2020-07-08 14:47:56,971 | INFO | fraud-poc 0.0.1-service test.find_orders leos13 27404 | Connecting to database redis://localhost:6379... | track.operation_id=test_operation_id | track.request_id=test_request_id | track.request_ts=2020-07-08T14:47:56.971741+00:00\n"
     ]
    },
    {
     "name": "stdout",
     "output_type": "stream",
     "text": [
      "[b'7545576ffe1b7c1d9d8d2e82d0191fa057df695f', b'71264e73-3061-4990-8297-6c09314b1a9d', b'b1f59a4bd99f595478e4259a6e3576d1081cbee8', b'fraud_poc.0x0x1_training.data.feature_calc', b'd16ed4b6-6e6f-4788-b45b-acd6609d7649', b'fraud_poc.0x0x1_training.data.make_sample_data.submit_job', b'fc55c49c955c439eff004e08ddc5c35e59023a6a', b'a7163f535fb73b3f8de90ca74387b22dc68276c3', b'63f6259e971adaf70ad742be1a1707b48712c02b', b'0ccf564669e982312eec408bb103ae929a01c7e6']\n",
      "\n",
      "{'order_id': 'ce4798f5-6127-4d6e-bf1d-dda810eab26b', 'order_date': '2020-07-07T06:33:18+00:00', 'customer_id': '271d8c5e-e4e3-4377-a3e3-673ccf153664', 'ip_addr': 'f95e9c978b7f88dde5b9eb39417070251603db2d', 'order_amount': 916.7097195892065, 'email': '7545576ffe1b7c1d9d8d2e82d0191fa057df695f', 'customer_id_by_email': '[\"271d8c5e-e4e3-4377-a3e3-673ccf153664\", \"271d8c5e-e4e3-4377-a3e3-673ccf153664\", \"271d8c5e-e4e3-4377-a3e3-673ccf153664\", \"271d8c5e-e4e3-4377-a3e3-673ccf153664\", \"271d8c5e-e4e3-4377-a3e3-673ccf153664\", \"271d8c5e-e4e3-4377-a3e3-673ccf153664\", \"271d8c5e-e4e3-4377-a3e3-673ccf153664\", \"271d8c5e-e4e3-4377-a3e3-673ccf153664\", \"271d8c5e-e4e3-4377-a3e3-673ccf153664\", \"271d8c5e-e4e3-4377-a3e3-673ccf153664\"]', 'num_customer_id_by_email': 1, 'last_customer_id_by_email': '271d8c5e-e4e3-4377-a3e3-673ccf153664', 'same_customer_id_by_email': 1, 'known_customer_id_by_email': 1, 'order_amount_mean_by_email': 536.4169276281408, 'order_amount_std_by_email': 303.15773466137165, 'order_amount_min_by_email': 68.2940660160266, 'order_amount_max_by_email': 916.7097195892065, 'order_amount_sum_by_email': 5364.169276281408, 'order_amount_by_email': '[776.9625708631996, 779.1408217338134, 454.66931470215576, 769.0840886685221, 854.4217419999278, 198.35357128773578, 68.2940660160266, 164.22372869469348, 382.3096527261267, 916.7097195892065]', 'key': '7545576ffe1b7c1d9d8d2e82d0191fa057df695f'}\n",
      "\n",
      "\n",
      "{'order_id': 'eca4330a-9f6e-44dd-aea8-f8d7c54c8950', 'order_date': '2020-07-04T23:27:45+00:00', 'email': '9fc4829456e3666af2644e22dda27036f1bd95c6', 'ip_addr': '68bf5c2a7d0cc0107eebaaf105ecef8faf51b812', 'order_amount': 824.7756099864736, 'customer_id': '71264e73-3061-4990-8297-6c09314b1a9d', 'email_by_customer_id': '[\"9fc4829456e3666af2644e22dda27036f1bd95c6\", \"9fc4829456e3666af2644e22dda27036f1bd95c6\", \"9fc4829456e3666af2644e22dda27036f1bd95c6\", \"9fc4829456e3666af2644e22dda27036f1bd95c6\", \"9fc4829456e3666af2644e22dda27036f1bd95c6\", \"9fc4829456e3666af2644e22dda27036f1bd95c6\", \"9fc4829456e3666af2644e22dda27036f1bd95c6\", \"9fc4829456e3666af2644e22dda27036f1bd95c6\", \"9fc4829456e3666af2644e22dda27036f1bd95c6\", \"9fc4829456e3666af2644e22dda27036f1bd95c6\"]', 'ip_addr_by_customer_id': '[\"68bf5c2a7d0cc0107eebaaf105ecef8faf51b812\", \"73aa85a1d3f0e90e5f6a51f57f1ac211dcccc992\", \"68bf5c2a7d0cc0107eebaaf105ecef8faf51b812\", \"68bf5c2a7d0cc0107eebaaf105ecef8faf51b812\", \"68bf5c2a7d0cc0107eebaaf105ecef8faf51b812\", \"68bf5c2a7d0cc0107eebaaf105ecef8faf51b812\", \"68bf5c2a7d0cc0107eebaaf105ecef8faf51b812\", \"68bf5c2a7d0cc0107eebaaf105ecef8faf51b812\", \"8fd24baa1e1e0985725713e460b0410d66692cd0\", \"68bf5c2a7d0cc0107eebaaf105ecef8faf51b812\"]', 'num_email_by_customer_id': 1, 'num_ip_addr_by_customer_id': 3, 'last_email_by_customer_id': '9fc4829456e3666af2644e22dda27036f1bd95c6', 'last_ip_addr_by_customer_id': '8fd24baa1e1e0985725713e460b0410d66692cd0', 'same_email_by_customer_id': 1, 'same_ip_addr_by_customer_id': 0, 'known_email_by_customer_id': 1, 'known_ip_addr_by_customer_id': 1, 'order_amount_mean_by_customer_id': 490.2410243712767, 'order_amount_std_by_customer_id': 294.8716825757671, 'order_amount_min_by_customer_id': 0.19606797264004605, 'order_amount_max_by_customer_id': 824.7756099864736, 'order_amount_sum_by_customer_id': 4902.410243712767, 'order_amount_by_customer_id': '[753.9342527900288, 669.3121208428819, 8.367609561072186, 672.6848052755605, 0.19606797264004605, 491.12294239943566, 340.7134725535139, 810.5019805243855, 330.80138180677477, 824.7756099864736]', 'key': '71264e73-3061-4990-8297-6c09314b1a9d'}\n",
      "\n",
      "\n",
      "{'order_id': '0f4de1e7-ae83-47fb-a45c-98da4e399b4b', 'order_date': '2020-07-06T10:59:28+00:00', 'customer_id': '1faf28b9-0dff-47f1-bcd8-689053805b16', 'ip_addr': '95c99f65815f00f09a3fb62f129f4a80adce6301', 'order_amount': 441.15932965006243, 'email': 'b1f59a4bd99f595478e4259a6e3576d1081cbee8', 'customer_id_by_email': '[\"1faf28b9-0dff-47f1-bcd8-689053805b16\", \"1faf28b9-0dff-47f1-bcd8-689053805b16\", \"1faf28b9-0dff-47f1-bcd8-689053805b16\", \"1faf28b9-0dff-47f1-bcd8-689053805b16\", \"1faf28b9-0dff-47f1-bcd8-689053805b16\", \"1faf28b9-0dff-47f1-bcd8-689053805b16\", \"1faf28b9-0dff-47f1-bcd8-689053805b16\", \"1faf28b9-0dff-47f1-bcd8-689053805b16\", \"1faf28b9-0dff-47f1-bcd8-689053805b16\", \"1faf28b9-0dff-47f1-bcd8-689053805b16\"]', 'num_customer_id_by_email': 1, 'last_customer_id_by_email': '1faf28b9-0dff-47f1-bcd8-689053805b16', 'same_customer_id_by_email': 1, 'known_customer_id_by_email': 1, 'order_amount_mean_by_email': 569.0463796131298, 'order_amount_std_by_email': 311.9103648006338, 'order_amount_min_by_email': 32.77086694625486, 'order_amount_max_by_email': 977.8903299747492, 'order_amount_sum_by_email': 5690.463796131298, 'order_amount_by_email': '[473.40364407038294, 977.8903299747492, 32.77086694625486, 944.2738113634712, 791.56430497176, 227.61325657735566, 372.9278534910816, 943.5715406667599, 485.28885841942196, 441.15932965006243]', 'key': 'b1f59a4bd99f595478e4259a6e3576d1081cbee8'}\n",
      "\n",
      "WRONGTYPE Operation against a key holding the wrong kind of value\n",
      "\n",
      "{'order_id': '5d7b5152-b750-461c-a8b4-ea14d1e43f0f', 'order_date': '2020-07-08T03:26:30+00:00', 'email': '28621e956af371c3bbc1c77c3d50510b9619975a', 'ip_addr': '447f3c92f2f7bb012279ad8d46d84d68fcde9e5c', 'order_amount': 125.26160318048329, 'customer_id': 'd16ed4b6-6e6f-4788-b45b-acd6609d7649', 'email_by_customer_id': '[\"28621e956af371c3bbc1c77c3d50510b9619975a\", \"f1f376c1301ba9ed548c90472ce4a21f4daa3401\", \"28621e956af371c3bbc1c77c3d50510b9619975a\", \"f1f376c1301ba9ed548c90472ce4a21f4daa3401\", \"f1f376c1301ba9ed548c90472ce4a21f4daa3401\", \"f1f376c1301ba9ed548c90472ce4a21f4daa3401\", \"28621e956af371c3bbc1c77c3d50510b9619975a\", \"f1f376c1301ba9ed548c90472ce4a21f4daa3401\", \"f1f376c1301ba9ed548c90472ce4a21f4daa3401\", \"28621e956af371c3bbc1c77c3d50510b9619975a\"]', 'ip_addr_by_customer_id': '[\"447f3c92f2f7bb012279ad8d46d84d68fcde9e5c\", \"2afb85754e50ccea1ad1fb34ca6743b87cf6f6f7\", \"447f3c92f2f7bb012279ad8d46d84d68fcde9e5c\", \"1631d2687066bc38c3aa6a02e685aa0dee2cf9de\", \"2afb85754e50ccea1ad1fb34ca6743b87cf6f6f7\", \"2afb85754e50ccea1ad1fb34ca6743b87cf6f6f7\", \"447f3c92f2f7bb012279ad8d46d84d68fcde9e5c\", \"2afb85754e50ccea1ad1fb34ca6743b87cf6f6f7\", \"2afb85754e50ccea1ad1fb34ca6743b87cf6f6f7\", \"447f3c92f2f7bb012279ad8d46d84d68fcde9e5c\"]', 'num_email_by_customer_id': 2, 'num_ip_addr_by_customer_id': 3, 'last_email_by_customer_id': 'f1f376c1301ba9ed548c90472ce4a21f4daa3401', 'last_ip_addr_by_customer_id': '2afb85754e50ccea1ad1fb34ca6743b87cf6f6f7', 'same_email_by_customer_id': 0, 'same_ip_addr_by_customer_id': 0, 'known_email_by_customer_id': 1, 'known_ip_addr_by_customer_id': 1, 'order_amount_mean_by_customer_id': 369.4995727464527, 'order_amount_std_by_customer_id': 313.7199845399928, 'order_amount_min_by_customer_id': 8.431115437528058, 'order_amount_max_by_customer_id': 918.1339306716898, 'order_amount_sum_by_customer_id': 3694.995727464527, 'order_amount_by_customer_id': '[918.1339306716898, 408.07103894969896, 472.46229509539586, 578.0469268378529, 819.4238152387287, 30.719056982438374, 8.431115437528058, 306.0812181204576, 28.36472695025405, 125.26160318048329]', 'key': 'd16ed4b6-6e6f-4788-b45b-acd6609d7649'}\n",
      "\n",
      "WRONGTYPE Operation against a key holding the wrong kind of value\n",
      "\n",
      "{'order_id': '2cff1ff4-dabb-4f6f-8efa-5328079eb2d0', 'order_date': '2020-07-07T05:52:03+00:00', 'customer_id': 'be2952c2-557c-4a04-9614-604293f04f30', 'ip_addr': 'c1308587f69bd0482ecf0b8d04fd3d99608e9082', 'order_amount': 264.0354901345052, 'email': 'fc55c49c955c439eff004e08ddc5c35e59023a6a', 'customer_id_by_email': '[\"be2952c2-557c-4a04-9614-604293f04f30\", \"be2952c2-557c-4a04-9614-604293f04f30\", \"be2952c2-557c-4a04-9614-604293f04f30\", \"be2952c2-557c-4a04-9614-604293f04f30\", \"be2952c2-557c-4a04-9614-604293f04f30\", \"be2952c2-557c-4a04-9614-604293f04f30\", \"be2952c2-557c-4a04-9614-604293f04f30\", \"be2952c2-557c-4a04-9614-604293f04f30\", \"be2952c2-557c-4a04-9614-604293f04f30\", \"be2952c2-557c-4a04-9614-604293f04f30\"]', 'num_customer_id_by_email': 1, 'last_customer_id_by_email': 'be2952c2-557c-4a04-9614-604293f04f30', 'same_customer_id_by_email': 1, 'known_customer_id_by_email': 1, 'order_amount_mean_by_email': 365.6505611706169, 'order_amount_std_by_email': 300.9047976673053, 'order_amount_min_by_email': 34.941870842798764, 'order_amount_max_by_email': 963.928722731538, 'order_amount_sum_by_email': 3656.505611706169, 'order_amount_by_email': '[34.941870842798764, 190.83458040674972, 56.53129607667429, 592.5368305781684, 963.928722731538, 156.2695605499892, 589.6125527834462, 127.06165167618488, 680.7530559261145, 264.0354901345052]', 'key': 'fc55c49c955c439eff004e08ddc5c35e59023a6a'}\n",
      "\n",
      "\n",
      "{'order_id': '2b27318e-9223-4a33-846e-36c8fa3a66c5', 'order_date': '2020-07-05T10:29:06+00:00', 'customer_id': 'd9f05eff-5637-45d5-af04-4968d41068ca', 'ip_addr': '769d1de62792555a835f8b1fa73b1f4f463a2316', 'order_amount': 755.973509308957, 'email': 'a7163f535fb73b3f8de90ca74387b22dc68276c3', 'customer_id_by_email': '[\"d9f05eff-5637-45d5-af04-4968d41068ca\", \"d9f05eff-5637-45d5-af04-4968d41068ca\", \"d9f05eff-5637-45d5-af04-4968d41068ca\", \"d9f05eff-5637-45d5-af04-4968d41068ca\", \"d9f05eff-5637-45d5-af04-4968d41068ca\", \"d9f05eff-5637-45d5-af04-4968d41068ca\", \"d9f05eff-5637-45d5-af04-4968d41068ca\", \"d9f05eff-5637-45d5-af04-4968d41068ca\", \"d9f05eff-5637-45d5-af04-4968d41068ca\", \"d9f05eff-5637-45d5-af04-4968d41068ca\"]', 'num_customer_id_by_email': 1, 'last_customer_id_by_email': 'd9f05eff-5637-45d5-af04-4968d41068ca', 'same_customer_id_by_email': 1, 'known_customer_id_by_email': 1, 'order_amount_mean_by_email': 521.7433745353864, 'order_amount_std_by_email': 263.43384780968285, 'order_amount_min_by_email': 44.45429610583995, 'order_amount_max_by_email': 860.009441228479, 'order_amount_sum_by_email': 5217.433745353864, 'order_amount_by_email': '[748.3773343219309, 454.42303645564306, 44.45429610583995, 438.3239617712044, 860.009441228479, 285.01174642096817, 230.05880403280378, 820.9596772194899, 579.8419384885482, 755.973509308957]', 'key': 'a7163f535fb73b3f8de90ca74387b22dc68276c3'}\n",
      "\n",
      "\n",
      "{'order_id': '0325e9a9-b24d-4870-bc30-b3abbf89d951', 'order_date': '2020-06-29T02:20:18+00:00', 'customer_id': '68cce351-43e0-46f2-b559-e21c7f4ac056', 'ip_addr': 'dcb7d5769abe26524f5bdb379fc84cc93e41cce1', 'order_amount': 319.6287775874658, 'email': '63f6259e971adaf70ad742be1a1707b48712c02b', 'customer_id_by_email': '[\"68cce351-43e0-46f2-b559-e21c7f4ac056\", \"68cce351-43e0-46f2-b559-e21c7f4ac056\", \"68cce351-43e0-46f2-b559-e21c7f4ac056\", \"68cce351-43e0-46f2-b559-e21c7f4ac056\", \"68cce351-43e0-46f2-b559-e21c7f4ac056\", \"68cce351-43e0-46f2-b559-e21c7f4ac056\", \"68cce351-43e0-46f2-b559-e21c7f4ac056\", \"68cce351-43e0-46f2-b559-e21c7f4ac056\", \"68cce351-43e0-46f2-b559-e21c7f4ac056\", \"68cce351-43e0-46f2-b559-e21c7f4ac056\"]', 'num_customer_id_by_email': 1, 'last_customer_id_by_email': '68cce351-43e0-46f2-b559-e21c7f4ac056', 'same_customer_id_by_email': 1, 'known_customer_id_by_email': 1, 'order_amount_mean_by_email': 358.77210387036837, 'order_amount_std_by_email': 249.26074575701048, 'order_amount_min_by_email': 56.72916619408819, 'order_amount_max_by_email': 808.8563011377746, 'order_amount_sum_by_email': 3587.7210387036835, 'order_amount_by_email': '[770.6626862164142, 184.1097760001009, 56.72916619408819, 808.8563011377746, 220.99860267292527, 361.0570636349538, 249.87462332130627, 519.7858826914431, 96.01815924721113, 319.6287775874658]', 'key': '63f6259e971adaf70ad742be1a1707b48712c02b'}\n",
      "\n",
      "\n",
      "{'order_id': '11b4e84c-00ef-4df2-885d-0d43dfcaef8d', 'order_date': '2020-07-04T19:31:48+00:00', 'customer_id': '7e529745-903b-4ada-87b5-2f8e109a74b9', 'ip_addr': 'c9401720b5df98d10e3d8f4b9c0d5b968b770eb8', 'order_amount': 943.9676441188888, 'email': '0ccf564669e982312eec408bb103ae929a01c7e6', 'customer_id_by_email': '[\"7e529745-903b-4ada-87b5-2f8e109a74b9\", \"7e529745-903b-4ada-87b5-2f8e109a74b9\", \"7e529745-903b-4ada-87b5-2f8e109a74b9\", \"7e529745-903b-4ada-87b5-2f8e109a74b9\", \"7e529745-903b-4ada-87b5-2f8e109a74b9\", \"7e529745-903b-4ada-87b5-2f8e109a74b9\", \"7e529745-903b-4ada-87b5-2f8e109a74b9\", \"7e529745-903b-4ada-87b5-2f8e109a74b9\", \"7e529745-903b-4ada-87b5-2f8e109a74b9\", \"7e529745-903b-4ada-87b5-2f8e109a74b9\"]', 'num_customer_id_by_email': 1, 'last_customer_id_by_email': '7e529745-903b-4ada-87b5-2f8e109a74b9', 'same_customer_id_by_email': 1, 'known_customer_id_by_email': 1, 'order_amount_mean_by_email': 644.4475194502905, 'order_amount_std_by_email': 242.7789324121482, 'order_amount_min_by_email': 146.72337429600424, 'order_amount_max_by_email': 976.7389160054746, 'order_amount_sum_by_email': 6444.475194502906, 'order_amount_by_email': '[568.7942849981113, 976.7389160054746, 886.7012632454035, 439.7068454750155, 525.0132677311293, 146.72337429600424, 535.5882505424725, 723.9475776906961, 697.2937703997104, 943.9676441188888]', 'key': '0ccf564669e982312eec408bb103ae929a01c7e6'}\n",
      "\n"
     ]
    },
    {
     "data": {
      "text/plain": [
       "[OrderInfo(order_id='ce4798f5-6127-4d6e-bf1d-dda810eab26b', customer_id='271d8c5e-e4e3-4377-a3e3-673ccf153664', order_date=datetime.datetime(2020, 7, 7, 6, 33, 18, tzinfo=tzutc()), email='7545576ffe1b7c1d9d8d2e82d0191fa057df695f', ip_addr='f95e9c978b7f88dde5b9eb39417070251603db2d', order_amount=916.7097195892065, location_lat=0.0, location_long=0.0),\n",
       " OrderInfo(order_id='eca4330a-9f6e-44dd-aea8-f8d7c54c8950', customer_id='71264e73-3061-4990-8297-6c09314b1a9d', order_date=datetime.datetime(2020, 7, 4, 23, 27, 45, tzinfo=tzutc()), email='9fc4829456e3666af2644e22dda27036f1bd95c6', ip_addr='68bf5c2a7d0cc0107eebaaf105ecef8faf51b812', order_amount=824.7756099864736, location_lat=0.0, location_long=0.0),\n",
       " OrderInfo(order_id='0f4de1e7-ae83-47fb-a45c-98da4e399b4b', customer_id='1faf28b9-0dff-47f1-bcd8-689053805b16', order_date=datetime.datetime(2020, 7, 6, 10, 59, 28, tzinfo=tzutc()), email='b1f59a4bd99f595478e4259a6e3576d1081cbee8', ip_addr='95c99f65815f00f09a3fb62f129f4a80adce6301', order_amount=441.15932965006243, location_lat=0.0, location_long=0.0),\n",
       " OrderInfo(order_id='5d7b5152-b750-461c-a8b4-ea14d1e43f0f', customer_id='d16ed4b6-6e6f-4788-b45b-acd6609d7649', order_date=datetime.datetime(2020, 7, 8, 3, 26, 30, tzinfo=tzutc()), email='28621e956af371c3bbc1c77c3d50510b9619975a', ip_addr='447f3c92f2f7bb012279ad8d46d84d68fcde9e5c', order_amount=125.26160318048329, location_lat=0.0, location_long=0.0),\n",
       " OrderInfo(order_id='2cff1ff4-dabb-4f6f-8efa-5328079eb2d0', customer_id='be2952c2-557c-4a04-9614-604293f04f30', order_date=datetime.datetime(2020, 7, 7, 5, 52, 3, tzinfo=tzutc()), email='fc55c49c955c439eff004e08ddc5c35e59023a6a', ip_addr='c1308587f69bd0482ecf0b8d04fd3d99608e9082', order_amount=264.0354901345052, location_lat=0.0, location_long=0.0),\n",
       " OrderInfo(order_id='2b27318e-9223-4a33-846e-36c8fa3a66c5', customer_id='d9f05eff-5637-45d5-af04-4968d41068ca', order_date=datetime.datetime(2020, 7, 5, 10, 29, 6, tzinfo=tzutc()), email='a7163f535fb73b3f8de90ca74387b22dc68276c3', ip_addr='769d1de62792555a835f8b1fa73b1f4f463a2316', order_amount=755.973509308957, location_lat=0.0, location_long=0.0),\n",
       " OrderInfo(order_id='0325e9a9-b24d-4870-bc30-b3abbf89d951', customer_id='68cce351-43e0-46f2-b559-e21c7f4ac056', order_date=datetime.datetime(2020, 6, 29, 2, 20, 18, tzinfo=tzutc()), email='63f6259e971adaf70ad742be1a1707b48712c02b', ip_addr='dcb7d5769abe26524f5bdb379fc84cc93e41cce1', order_amount=319.6287775874658, location_lat=0.0, location_long=0.0),\n",
       " OrderInfo(order_id='11b4e84c-00ef-4df2-885d-0d43dfcaef8d', customer_id='7e529745-903b-4ada-87b5-2f8e109a74b9', order_date=datetime.datetime(2020, 7, 4, 19, 31, 48, tzinfo=tzutc()), email='0ccf564669e982312eec408bb103ae929a01c7e6', ip_addr='c9401720b5df98d10e3d8f4b9c0d5b968b770eb8', order_amount=943.9676441188888, location_lat=0.0, location_long=0.0)]"
      ]
     },
     "execution_count": null,
     "metadata": {},
     "output_type": "execute_result"
    }
   ],
   "source": [
    "from hopeit.testing.apps import config, execute_event\n",
    "from fraud_poc.live.predict import OrderInfo\n",
    "import uuid\n",
    " \n",
    "def new_key(): return str(uuid.uuid4())\n",
    "\n",
    "app_config = config('config/fraud-service.json')\n",
    "result = await execute_event(app_config, 'test.find_orders', None, prefix='*', num_items=10)\n",
    "result"
   ]
  },
  {
   "cell_type": "code",
   "execution_count": null,
   "metadata": {},
   "outputs": [],
   "source": []
  }
 ],
 "metadata": {
  "kernelspec": {
   "display_name": "Python 3",
   "language": "python",
   "name": "python3"
  }
 },
 "nbformat": 4,
 "nbformat_minor": 4
}
