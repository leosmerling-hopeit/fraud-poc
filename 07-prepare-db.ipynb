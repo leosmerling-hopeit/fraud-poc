{
 "cells": [
  {
   "cell_type": "code",
   "execution_count": null,
   "metadata": {},
   "outputs": [],
   "source": [
    "#default_exp data.prepare_db"
   ]
  },
  {
   "cell_type": "code",
   "execution_count": null,
   "metadata": {},
   "outputs": [
    {
     "name": "stdout",
     "output_type": "stream",
     "text": [
      "Converted 00_jobs.ipynb.\n",
      "Converted 01-create-sample-data.ipynb.\n",
      "Converted 02-preprocess.ipynb.\n",
      "Converted 03-feature-calc.ipynb.\n",
      "Converted 04-training-data.ipynb.\n",
      "Converted 05-train-model.ipynb.\n",
      "Converted 06-submit-training-pipeline.ipynb.\n",
      "Converted 07-prepare-db.ipynb.\n",
      "Converted 99-tools.ipynb.\n",
      "Converted index.ipynb.\n"
     ]
    }
   ],
   "source": [
    "!nbdev_build_lib"
   ]
  },
  {
   "cell_type": "code",
   "execution_count": null,
   "metadata": {},
   "outputs": [],
   "source": [
    "#export\n",
    "from typing import Dict\n",
    "from datetime import datetime, timezone, timedelta\n",
    "import random\n",
    "import math\n",
    "import dask.dataframe as dd\n",
    "import numpy as np\n",
    "import redis\n",
    "\n",
    "from hopeit.server.serialization import serialize, Serialization, deserialize\n",
    "from hopeit.server.compression import Compression\n",
    "from hopeit.app.context import EventContext\n",
    "from hopeit.app.events import Spawn, SHUFFLE\n",
    "from hopeit.app.api import event_api\n",
    "from hopeit.app.logger import app_logger\n",
    "from hopeit.toolkit.storage.redis import RedisStorage\n",
    "\n",
    "from fraud_poc.jobs import get_client, FeatureCalcJob, PrepareDbJob"
   ]
  },
  {
   "cell_type": "code",
   "execution_count": null,
   "metadata": {},
   "outputs": [],
   "source": [
    "#export\n",
    "__steps__ = ['update_database']\n",
    "\n",
    "logger = app_logger()\n"
   ]
  },
  {
   "cell_type": "code",
   "execution_count": null,
   "metadata": {},
   "outputs": [],
   "source": [
    "#export\n",
    "def _save_values_by_key(key, path, db_host, db_port):\n",
    "    df = dd.read_parquet(path, engine='fastparquet')\n",
    "    df['key'] = df[key]\n",
    "    return (key, df.map_partitions(_foreach_partition, db_host, db_port, meta=('value', object)).count().compute().item())\n",
    "            \n",
    "def _foreach_partition(df, db_host, db_port):\n",
    "    db = redis.Redis(host=db_host, port=db_port, db=0)\n",
    "    items = df.groupby(['key'])[df.columns].apply(_last_item)\n",
    "    items = items.apply(lambda x: _persist(x, db), axis=1)\n",
    "    db.close()\n",
    "    return items\n",
    "\n",
    "def _last_item(group):\n",
    "    group = group.sort_values('order_date')\n",
    "    return group.tail(1)     \n",
    "\n",
    "def _persist(item, db):\n",
    "    v = item.to_dict()\n",
    "    key = v['key']\n",
    "    payload = serialize(v, Serialization.PICKLE4, Compression.LZ4)\n",
    "    db.set(key, payload)\n",
    "    return v"
   ]
  },
  {
   "cell_type": "code",
   "execution_count": null,
   "metadata": {},
   "outputs": [],
   "source": [
    "#export\n",
    "async def update_database(job: FeatureCalcJob, context: EventContext):\n",
    "    client = get_client(context)\n",
    "    db_host = context.env['db']['host']\n",
    "    db_port = context.env['db']['port']\n",
    "    logger.info(context, f\"Preparing to save to database {db_host}:{db_port}...\")\n",
    "    try:\n",
    "        tasks = []\n",
    "        for key, path in job.features.items():\n",
    "            logger.info(context, f\"Saving latest state for {key} features...\")\n",
    "            tasks.append(client.submit(_save_values_by_key, key, path, db_host, db_port))\n",
    "        res = client.gather(tasks)\n",
    "        return PrepareDbJob(\n",
    "            features=job.features,\n",
    "            db=f'{db_host}:{db_port}',\n",
    "            saved=dict(res)\n",
    "        )\n",
    "    except Exception as e:\n",
    "        logger.error(context, e)\n",
    "        return None\n",
    "    finally:\n",
    "        client.close()    \n",
    "    "
   ]
  },
  {
   "cell_type": "markdown",
   "metadata": {},
   "source": [
    "### Test from notebook"
   ]
  },
  {
   "cell_type": "code",
   "execution_count": null,
   "metadata": {},
   "outputs": [
    {
     "name": "stderr",
     "output_type": "stream",
     "text": [
      "2020-07-08 08:40:04,055 | INFO | fraud-poc 0.0.1-training data.prepare-db leo-legion 13835 | Preparing to save to database localhost:6379... | track.operation_id=test_operation_id | track.request_id=test_request_id | track.request_ts=2020-07-08T08:40:03.311409+00:00 | stream.name= | stream.msg_id= | stream.consumer_group=\n",
      "2020-07-08 08:40:04,056 | INFO | fraud-poc 0.0.1-training data.prepare-db leo-legion 13835 | Saving latest state for customer_id features... | track.operation_id=test_operation_id | track.request_id=test_request_id | track.request_ts=2020-07-08T08:40:03.311409+00:00 | stream.name= | stream.msg_id= | stream.consumer_group=\n",
      "2020-07-08 08:40:04,056 | INFO | fraud-poc 0.0.1-training data.prepare-db leo-legion 13835 | Saving latest state for email features... | track.operation_id=test_operation_id | track.request_id=test_request_id | track.request_ts=2020-07-08T08:40:03.311409+00:00 | stream.name= | stream.msg_id= | stream.consumer_group=\n",
      "distributed.nanny - WARNING - Worker process still alive after 3 seconds, killing\n",
      "distributed.nanny - WARNING - Worker process still alive after 3 seconds, killing\n"
     ]
    },
    {
     "data": {
      "text/plain": [
       "PrepareDbJob(features={'customer_id': './data/features/customer_id/', 'email': './data/features/email/'}, db='localhost:6379', saved={'customer_id': 6910, 'email': 12000})"
      ]
     },
     "execution_count": null,
     "metadata": {},
     "output_type": "execute_result"
    }
   ],
   "source": [
    "from hopeit.testing.apps import config, execute_event\n",
    "\n",
    "app_config = config('config/training-pipeline.json')\n",
    "job = FeatureCalcJob(sources={'customer_id': './data/partitioned/customer_id/', 'email': './data/partitioned/email'}, \n",
    "                     features={'customer_id': './data/features/customer_id/', 'email': './data/features/email/'})\n",
    "result = await execute_event(app_config, 'data.prepare-db', job)\n",
    "result"
   ]
  },
  {
   "cell_type": "code",
   "execution_count": null,
   "metadata": {},
   "outputs": [
    {
     "data": {
      "text/plain": [
       "{'order_id': '758bc444-e538-41a2-81a2-1c19f269cd85',\n",
       " 'order_date': Timestamp('2020-07-06 09:05:20+0000', tz='UTC'),\n",
       " 'email': '1f5d34b02ef1975d5a82dcfe2e53fad6182e118c',\n",
       " 'ip_addr': '4efa50345ed594d6f817f909e1b60473cb9d6c39',\n",
       " 'order_amount': 879.7319538388477,\n",
       " 'customer_id': 'd555b585-5511-4a16-9f22-819834110239',\n",
       " 'email_by_customer_id': \"['239b8d32e104be4b7c0cc65e2cbc1ead42522578', '239b8d32e104be4b7c0cc65e2cbc1ead42522578', 'd33cfd28bb631654b8e59ac97a958555ad39ea78', '1f5d34b02ef1975d5a82dcfe2e53fad6182e118c', '63552fd2e3d7e9e71e761c50f8b7ff1c07f39abb', '239b8d32e104be4b7c0cc65e2cbc1ead42522578', '63552fd2e3d7e9e71e761c50f8b7ff1c07f39abb', '63552fd2e3d7e9e71e761c50f8b7ff1c07f39abb', '63552fd2e3d7e9e71e761c50f8b7ff1c07f39abb', '1f5d34b02ef1975d5a82dcfe2e53fad6182e118c']\",\n",
       " 'ip_addr_by_customer_id': \"['6f63bf7b774f8594744b5d1fc17a0e1c43cfd809', '6f63bf7b774f8594744b5d1fc17a0e1c43cfd809', '1404f14e3e04cdbbfadcd3ea70f014226bb9ac26', '4efa50345ed594d6f817f909e1b60473cb9d6c39', '270e3d5cf5ddfde308b19442e225f8c3b9251ecc', '6f63bf7b774f8594744b5d1fc17a0e1c43cfd809', '785cd9911322a86079b9446e895b535490171a75', '270e3d5cf5ddfde308b19442e225f8c3b9251ecc', '5c30206672cf95de1e41294ef3391a0f369e5fc8', '4efa50345ed594d6f817f909e1b60473cb9d6c39']\",\n",
       " 'num_email_by_customer_id': 4,\n",
       " 'num_ip_addr_by_customer_id': 6,\n",
       " 'last_email_by_customer_id': '63552fd2e3d7e9e71e761c50f8b7ff1c07f39abb',\n",
       " 'last_ip_addr_by_customer_id': '5c30206672cf95de1e41294ef3391a0f369e5fc8',\n",
       " 'same_email_by_customer_id': 0,\n",
       " 'same_ip_addr_by_customer_id': 0,\n",
       " 'known_email_by_customer_id': 1,\n",
       " 'known_ip_addr_by_customer_id': 1,\n",
       " 'order_amount_mean_by_customer_id': 448.4904703388755,\n",
       " 'order_amount_std_by_customer_id': 236.98774398112243,\n",
       " 'order_amount_min_by_customer_id': 147.61131120991155,\n",
       " 'order_amount_max_by_customer_id': 879.7319538388477,\n",
       " 'order_amount_sum_by_customer_id': 4484.9047033887555,\n",
       " 'order_amount_by_customer_id': '[402.4348689727, 648.5861853978612, 147.61131120991155, 591.5459546297528, 214.33601894031463, 690.3395151993851, 453.97520881198227, 305.8898989967592, 150.4537873912415, 879.7319538388477]',\n",
       " 'key': 'd555b585-5511-4a16-9f22-819834110239'}"
      ]
     },
     "execution_count": null,
     "metadata": {},
     "output_type": "execute_result"
    }
   ],
   "source": [
    "#customer id aggregation\n",
    "db = redis.Redis(host='localhost', port=6379, db=0)\n",
    "item = db.get('d555b585-5511-4a16-9f22-819834110239')\n",
    "deserialize(item, Serialization.PICKLE4, Compression.LZ4, dict)"
   ]
  },
  {
   "cell_type": "code",
   "execution_count": null,
   "metadata": {},
   "outputs": [
    {
     "data": {
      "text/plain": [
       "{'order_id': '758bc444-e538-41a2-81a2-1c19f269cd85',\n",
       " 'order_date': Timestamp('2020-07-06 09:05:20+0000', tz='UTC'),\n",
       " 'customer_id': 'd555b585-5511-4a16-9f22-819834110239',\n",
       " 'ip_addr': '4efa50345ed594d6f817f909e1b60473cb9d6c39',\n",
       " 'order_amount': 879.7319538388477,\n",
       " 'email': '1f5d34b02ef1975d5a82dcfe2e53fad6182e118c',\n",
       " 'customer_id_by_email': \"['d555b585-5511-4a16-9f22-819834110239', 'd555b585-5511-4a16-9f22-819834110239', 'd555b585-5511-4a16-9f22-819834110239', 'd555b585-5511-4a16-9f22-819834110239', 'd555b585-5511-4a16-9f22-819834110239', 'd555b585-5511-4a16-9f22-819834110239', 'd555b585-5511-4a16-9f22-819834110239', 'd555b585-5511-4a16-9f22-819834110239', 'd555b585-5511-4a16-9f22-819834110239', 'd555b585-5511-4a16-9f22-819834110239']\",\n",
       " 'num_customer_id_by_email': 1,\n",
       " 'last_customer_id_by_email': 'd555b585-5511-4a16-9f22-819834110239',\n",
       " 'same_customer_id_by_email': 1,\n",
       " 'known_customer_id_by_email': 1,\n",
       " 'order_amount_mean_by_email': 516.7076306505403,\n",
       " 'order_amount_std_by_email': 278.38456075392605,\n",
       " 'order_amount_min_by_email': 13.426760485169664,\n",
       " 'order_amount_max_by_email': 884.064247490211,\n",
       " 'order_amount_sum_by_email': 5167.076306505403,\n",
       " 'order_amount_by_email': '[884.064247490211, 722.9025680336106, 13.426760485169664, 627.8375917324881, 607.0682555756823, 249.78620396645113, 202.94798232836487, 387.7647884248259, 591.5459546297528, 879.7319538388477]',\n",
       " 'key': '1f5d34b02ef1975d5a82dcfe2e53fad6182e118c'}"
      ]
     },
     "execution_count": null,
     "metadata": {},
     "output_type": "execute_result"
    }
   ],
   "source": [
    "#email aggregations\n",
    "item = db.get('1f5d34b02ef1975d5a82dcfe2e53fad6182e118c')\n",
    "deserialize(item, Serialization.PICKLE4, Compression.LZ4, dict)"
   ]
  },
  {
   "cell_type": "code",
   "execution_count": null,
   "metadata": {},
   "outputs": [],
   "source": []
  }
 ],
 "metadata": {
  "kernelspec": {
   "display_name": "Python 3",
   "language": "python",
   "name": "python3"
  }
 },
 "nbformat": 4,
 "nbformat_minor": 4
}
