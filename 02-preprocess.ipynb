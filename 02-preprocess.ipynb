{
 "cells": [
  {
   "cell_type": "code",
   "execution_count": 1,
   "metadata": {},
   "outputs": [],
   "source": [
    "#default_exp data.preprocess"
   ]
  },
  {
   "cell_type": "code",
   "execution_count": 3,
   "metadata": {},
   "outputs": [
    {
     "name": "stdout",
     "output_type": "stream",
     "text": [
      "Converted 00_jobs.ipynb.\n",
      "Converted 01-create-sample-data.ipynb.\n",
      "Converted 02-preprocess.ipynb.\n",
      "Converted 03-feature-calc.ipynb.\n",
      "Converted 04-label-folds.ipynb.\n",
      "Converted 05-training.ipynb.\n",
      "Converted index.ipynb.\n"
     ]
    }
   ],
   "source": [
    "!nbdev_build_lib"
   ]
  },
  {
   "cell_type": "code",
   "execution_count": 8,
   "metadata": {},
   "outputs": [],
   "source": [
    "#export\n",
    "import dask.dataframe as dd\n",
    "\n",
    "from hopeit.app.context import EventContext\n",
    "from hopeit.app.events import Spawn, SHUFFLE\n",
    "from hopeit.app.api import event_api\n",
    "from hopeit.app.logger import app_logger\n",
    "\n",
    "from fraud_poc.jobs import get_client, MakeSampleDataJob, PreprocessingJob"
   ]
  },
  {
   "cell_type": "code",
   "execution_count": 2,
   "metadata": {},
   "outputs": [],
   "source": [
    "#export\n",
    "__steps__ = ['run']\n",
    "\n",
    "logger = app_logger()"
   ]
  },
  {
   "cell_type": "code",
   "execution_count": 3,
   "metadata": {},
   "outputs": [],
   "source": [
    "#export\n",
    "def run(job: MakeSampleDataJob, context: EventContext) -> PreprocessingJob:\n",
    "    base_path = context.env['data']['partitioned']\n",
    "    client = get_client(context)\n",
    "    try:\n",
    "        df = dd.read_parquet(job.path, \n",
    "                             engine='fastparquet', \n",
    "                             columns=['order_id', 'order_date', 'customer_id', 'email', 'ip_addr', 'order_amount'])\n",
    "        partitioned = {\n",
    "            'customer_id': f'{base_path}/customer_id/',\n",
    "            'email': f'{base_path}/email'\n",
    "        }\n",
    "        for key, path in partitioned.items():\n",
    "            logger.info(context, f\"Partitioning on {key} to {path}...\")\n",
    "            df.set_index(key).to_parquet(path)\n",
    "        return PreprocessingJob(\n",
    "            source=job.path,\n",
    "            partitioned=partitioned\n",
    "        )\n",
    "    except Exception as e:\n",
    "        logger.error(context, e)\n",
    "        return None\n",
    "    finally:\n",
    "        client.close()"
   ]
  },
  {
   "cell_type": "code",
   "execution_count": null,
   "metadata": {},
   "outputs": [],
   "source": []
  }
 ],
 "metadata": {
  "kernelspec": {
   "display_name": "Python 3",
   "language": "python",
   "name": "python3"
  },
  "language_info": {
   "codemirror_mode": {
    "name": "ipython",
    "version": 3
   },
   "file_extension": ".py",
   "mimetype": "text/x-python",
   "name": "python",
   "nbconvert_exporter": "python",
   "pygments_lexer": "ipython3",
   "version": "3.8.3"
  }
 },
 "nbformat": 4,
 "nbformat_minor": 4
}
