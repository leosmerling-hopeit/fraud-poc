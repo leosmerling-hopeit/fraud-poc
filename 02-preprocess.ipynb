{
 "cells": [
  {
   "cell_type": "code",
   "execution_count": null,
   "metadata": {},
   "outputs": [],
   "source": [
    "#default_exp data.preprocess"
   ]
  },
  {
   "cell_type": "code",
   "execution_count": null,
   "metadata": {},
   "outputs": [
    {
     "name": "stdout",
     "output_type": "stream",
     "text": [
      "Converted 00_jobs.ipynb.\n",
      "Converted 01-create-sample-data.ipynb.\n",
      "Converted 02-preprocess.ipynb.\n",
      "Converted 03-feature-calc.ipynb.\n",
      "Converted 04-label-folds.ipynb.\n",
      "Converted 05-training.ipynb.\n",
      "Converted index.ipynb.\n"
     ]
    }
   ],
   "source": [
    "!nbdev_build_lib"
   ]
  },
  {
   "cell_type": "code",
   "execution_count": null,
   "metadata": {},
   "outputs": [],
   "source": [
    "#export\n",
    "import dask.dataframe as dd\n",
    "\n",
    "from hopeit.app.context import EventContext\n",
    "from hopeit.app.events import Spawn, SHUFFLE\n",
    "from hopeit.app.api import event_api\n",
    "from hopeit.app.logger import app_logger\n",
    "\n",
    "from fraud_poc.jobs import get_client, MakeSampleDataJob, PreprocessingJob"
   ]
  },
  {
   "cell_type": "code",
   "execution_count": null,
   "metadata": {},
   "outputs": [],
   "source": [
    "#export\n",
    "__steps__ = ['run']\n",
    "\n",
    "logger = app_logger()"
   ]
  },
  {
   "cell_type": "code",
   "execution_count": null,
   "metadata": {},
   "outputs": [],
   "source": [
    "#export\n",
    "def run(job: MakeSampleDataJob, context: EventContext) -> PreprocessingJob:\n",
    "    base_path = context.env['data']['partitioned']\n",
    "    client = get_client(context)\n",
    "    try:\n",
    "        df = dd.read_parquet(job.path, \n",
    "                             engine='fastparquet', \n",
    "                             columns=['order_id', 'order_date', 'customer_id', 'email', 'ip_addr', 'order_amount'])\n",
    "        partitioned = {\n",
    "            'customer_id': f'{base_path}/customer_id/',\n",
    "            'email': f'{base_path}/email'\n",
    "        }\n",
    "        for key, path in partitioned.items():\n",
    "            logger.info(context, f\"Partitioning on {key} to {path}...\")\n",
    "            df.set_index(key).to_parquet(path)\n",
    "        return PreprocessingJob(\n",
    "            source=job.path,\n",
    "            partitioned=partitioned\n",
    "        )\n",
    "    except Exception as e:\n",
    "        logger.error(context, e)\n",
    "        return None\n",
    "    finally:\n",
    "        client.close()"
   ]
  },
  {
   "cell_type": "code",
   "execution_count": null,
   "metadata": {},
   "outputs": [],
   "source": []
  },
  {
   "cell_type": "markdown",
   "metadata": {},
   "source": [
    "### Test from notebook"
   ]
  },
  {
   "cell_type": "code",
   "execution_count": null,
   "metadata": {},
   "outputs": [
    {
     "name": "stderr",
     "output_type": "stream",
     "text": [
      "2020-07-06 17:32:26,913 | INFO | fraud-poc 0.0.1 data.preprocess leo-legion 23174 | Partitioning on customer_id to ./data/partitioned/customer_id/... | track.operation_id=test_operation_id | track.request_id=test_request_id | track.request_ts=2020-07-06T17:32:25.996107+00:00 | stream.name= | stream.msg_id= | stream.consumer_group=\n",
      "2020-07-06 17:32:28,496 | INFO | fraud-poc 0.0.1 data.preprocess leo-legion 23174 | Partitioning on email to ./data/partitioned/email... | track.operation_id=test_operation_id | track.request_id=test_request_id | track.request_ts=2020-07-06T17:32:25.996107+00:00 | stream.name= | stream.msg_id= | stream.consumer_group=\n"
     ]
    },
    {
     "data": {
      "text/plain": [
       "PreprocessingJob(source='./data/raw', partitioned={'customer_id': './data/partitioned/customer_id/', 'email': './data/partitioned/email'})"
      ]
     },
     "execution_count": null,
     "metadata": {},
     "output_type": "execute_result"
    }
   ],
   "source": [
    "from hopeit.testing.apps import config, execute_event\n",
    "\n",
    "app_config = config('config/training-pipeline.json')\n",
    "job = MakeSampleDataJob(path='./data/raw', num_batches=2, batch_size=1000, batch_span_days=10, \n",
    "                        num_customers=1000, num_emails=1000, num_ips=1000)\n",
    "result = await execute_event(app_config, 'data.preprocess', job)\n",
    "result"
   ]
  },
  {
   "cell_type": "code",
   "execution_count": null,
   "metadata": {},
   "outputs": [
    {
     "data": {
      "text/html": [
       "<div>\n",
       "<style scoped>\n",
       "    .dataframe tbody tr th:only-of-type {\n",
       "        vertical-align: middle;\n",
       "    }\n",
       "\n",
       "    .dataframe tbody tr th {\n",
       "        vertical-align: top;\n",
       "    }\n",
       "\n",
       "    .dataframe thead th {\n",
       "        text-align: right;\n",
       "    }\n",
       "</style>\n",
       "<table border=\"1\" class=\"dataframe\">\n",
       "  <thead>\n",
       "    <tr style=\"text-align: right;\">\n",
       "      <th></th>\n",
       "      <th>order_id</th>\n",
       "      <th>order_date</th>\n",
       "      <th>email</th>\n",
       "      <th>ip_addr</th>\n",
       "      <th>order_amount</th>\n",
       "    </tr>\n",
       "    <tr>\n",
       "      <th>customer_id</th>\n",
       "      <th></th>\n",
       "      <th></th>\n",
       "      <th></th>\n",
       "      <th></th>\n",
       "      <th></th>\n",
       "    </tr>\n",
       "  </thead>\n",
       "  <tbody>\n",
       "    <tr>\n",
       "      <th>002b6bff-0bec-4b19-82be-d428f41cc30c</th>\n",
       "      <td>b5e1cf50-1996-44f2-8d82-fe18fbe61752</td>\n",
       "      <td>2020-06-28 19:11:16+00:00</td>\n",
       "      <td>d9c3af743102923e41d1ad4281ddd96742f6e50a</td>\n",
       "      <td>180fb8a54dce9e83394400969edb0dc6a7b13088</td>\n",
       "      <td>68.270268</td>\n",
       "    </tr>\n",
       "    <tr>\n",
       "      <th>002b6bff-0bec-4b19-82be-d428f41cc30c</th>\n",
       "      <td>7740c611-2504-4374-9a40-0d80c7d6a723</td>\n",
       "      <td>2020-06-11 17:01:42+00:00</td>\n",
       "      <td>d9c3af743102923e41d1ad4281ddd96742f6e50a</td>\n",
       "      <td>180fb8a54dce9e83394400969edb0dc6a7b13088</td>\n",
       "      <td>337.110821</td>\n",
       "    </tr>\n",
       "    <tr>\n",
       "      <th>0047b81f-8a96-473a-b0f2-8c8c10f304eb</th>\n",
       "      <td>6e4b3e31-288f-472e-94b9-03678e60c3a3</td>\n",
       "      <td>2020-06-24 10:32:22+00:00</td>\n",
       "      <td>58d77079c714b7796cac1d3df211cb3147525bfb</td>\n",
       "      <td>6d7c0b798489375381e3838b4fbad6f933c348ac</td>\n",
       "      <td>601.101297</td>\n",
       "    </tr>\n",
       "    <tr>\n",
       "      <th>004c9254-4e65-47f6-88e4-d262dce434a9</th>\n",
       "      <td>a7ad0661-f86d-4388-8b5f-5c3051c39c07</td>\n",
       "      <td>2020-06-05 02:43:32+00:00</td>\n",
       "      <td>09da81d40cb2939e7a48331825837d039d2b0784</td>\n",
       "      <td>02bf0acfcbc290d72b7765fb1de00fa796ca0d88</td>\n",
       "      <td>539.827743</td>\n",
       "    </tr>\n",
       "    <tr>\n",
       "      <th>0055a45d-ad90-48f3-a461-ac4d6716ab48</th>\n",
       "      <td>7f37211b-d1e4-4e43-acf9-1a17abbd3072</td>\n",
       "      <td>2020-06-16 14:17:27+00:00</td>\n",
       "      <td>f599018e431a101f6ed8ef365add95a1bcce726d</td>\n",
       "      <td>eecda0b16e78628a4e5368c437a634b5ef9d6f6e</td>\n",
       "      <td>124.542277</td>\n",
       "    </tr>\n",
       "  </tbody>\n",
       "</table>\n",
       "</div>"
      ],
      "text/plain": [
       "                                                                  order_id  \\\n",
       "customer_id                                                                  \n",
       "002b6bff-0bec-4b19-82be-d428f41cc30c  b5e1cf50-1996-44f2-8d82-fe18fbe61752   \n",
       "002b6bff-0bec-4b19-82be-d428f41cc30c  7740c611-2504-4374-9a40-0d80c7d6a723   \n",
       "0047b81f-8a96-473a-b0f2-8c8c10f304eb  6e4b3e31-288f-472e-94b9-03678e60c3a3   \n",
       "004c9254-4e65-47f6-88e4-d262dce434a9  a7ad0661-f86d-4388-8b5f-5c3051c39c07   \n",
       "0055a45d-ad90-48f3-a461-ac4d6716ab48  7f37211b-d1e4-4e43-acf9-1a17abbd3072   \n",
       "\n",
       "                                                    order_date  \\\n",
       "customer_id                                                      \n",
       "002b6bff-0bec-4b19-82be-d428f41cc30c 2020-06-28 19:11:16+00:00   \n",
       "002b6bff-0bec-4b19-82be-d428f41cc30c 2020-06-11 17:01:42+00:00   \n",
       "0047b81f-8a96-473a-b0f2-8c8c10f304eb 2020-06-24 10:32:22+00:00   \n",
       "004c9254-4e65-47f6-88e4-d262dce434a9 2020-06-05 02:43:32+00:00   \n",
       "0055a45d-ad90-48f3-a461-ac4d6716ab48 2020-06-16 14:17:27+00:00   \n",
       "\n",
       "                                                                         email  \\\n",
       "customer_id                                                                      \n",
       "002b6bff-0bec-4b19-82be-d428f41cc30c  d9c3af743102923e41d1ad4281ddd96742f6e50a   \n",
       "002b6bff-0bec-4b19-82be-d428f41cc30c  d9c3af743102923e41d1ad4281ddd96742f6e50a   \n",
       "0047b81f-8a96-473a-b0f2-8c8c10f304eb  58d77079c714b7796cac1d3df211cb3147525bfb   \n",
       "004c9254-4e65-47f6-88e4-d262dce434a9  09da81d40cb2939e7a48331825837d039d2b0784   \n",
       "0055a45d-ad90-48f3-a461-ac4d6716ab48  f599018e431a101f6ed8ef365add95a1bcce726d   \n",
       "\n",
       "                                                                       ip_addr  \\\n",
       "customer_id                                                                      \n",
       "002b6bff-0bec-4b19-82be-d428f41cc30c  180fb8a54dce9e83394400969edb0dc6a7b13088   \n",
       "002b6bff-0bec-4b19-82be-d428f41cc30c  180fb8a54dce9e83394400969edb0dc6a7b13088   \n",
       "0047b81f-8a96-473a-b0f2-8c8c10f304eb  6d7c0b798489375381e3838b4fbad6f933c348ac   \n",
       "004c9254-4e65-47f6-88e4-d262dce434a9  02bf0acfcbc290d72b7765fb1de00fa796ca0d88   \n",
       "0055a45d-ad90-48f3-a461-ac4d6716ab48  eecda0b16e78628a4e5368c437a634b5ef9d6f6e   \n",
       "\n",
       "                                      order_amount  \n",
       "customer_id                                         \n",
       "002b6bff-0bec-4b19-82be-d428f41cc30c     68.270268  \n",
       "002b6bff-0bec-4b19-82be-d428f41cc30c    337.110821  \n",
       "0047b81f-8a96-473a-b0f2-8c8c10f304eb    601.101297  \n",
       "004c9254-4e65-47f6-88e4-d262dce434a9    539.827743  \n",
       "0055a45d-ad90-48f3-a461-ac4d6716ab48    124.542277  "
      ]
     },
     "execution_count": null,
     "metadata": {},
     "output_type": "execute_result"
    }
   ],
   "source": [
    "dd.read_parquet(result.partitioned['customer_id']).head()"
   ]
  },
  {
   "cell_type": "code",
   "execution_count": null,
   "metadata": {},
   "outputs": [
    {
     "data": {
      "text/html": [
       "<div>\n",
       "<style scoped>\n",
       "    .dataframe tbody tr th:only-of-type {\n",
       "        vertical-align: middle;\n",
       "    }\n",
       "\n",
       "    .dataframe tbody tr th {\n",
       "        vertical-align: top;\n",
       "    }\n",
       "\n",
       "    .dataframe thead th {\n",
       "        text-align: right;\n",
       "    }\n",
       "</style>\n",
       "<table border=\"1\" class=\"dataframe\">\n",
       "  <thead>\n",
       "    <tr style=\"text-align: right;\">\n",
       "      <th></th>\n",
       "      <th>order_id</th>\n",
       "      <th>order_date</th>\n",
       "      <th>customer_id</th>\n",
       "      <th>ip_addr</th>\n",
       "      <th>order_amount</th>\n",
       "    </tr>\n",
       "    <tr>\n",
       "      <th>email</th>\n",
       "      <th></th>\n",
       "      <th></th>\n",
       "      <th></th>\n",
       "      <th></th>\n",
       "      <th></th>\n",
       "    </tr>\n",
       "  </thead>\n",
       "  <tbody>\n",
       "    <tr>\n",
       "      <th>00563c174e1904e1333f6140b4f5af62e9af31f4</th>\n",
       "      <td>de347ad8-881d-4db2-8f77-8cd7c3bc8409</td>\n",
       "      <td>2020-05-28 12:51:48+00:00</td>\n",
       "      <td>a77c93a2-2b07-4f36-93f4-2cdb5de40fac</td>\n",
       "      <td>5e523d96f0b3a52caeb612543bab45f409c98396</td>\n",
       "      <td>172.943654</td>\n",
       "    </tr>\n",
       "    <tr>\n",
       "      <th>005fa0d91e609fede563ab1386609dbab7250655</th>\n",
       "      <td>64f7fbab-074a-4b43-9b1c-a6c7e6b615bf</td>\n",
       "      <td>2020-06-10 18:11:59+00:00</td>\n",
       "      <td>097fdf7b-41e4-4fec-b52c-8ba88be8f4c1</td>\n",
       "      <td>7080f1f31d238381c88a105258b7e891728a5c97</td>\n",
       "      <td>90.264341</td>\n",
       "    </tr>\n",
       "    <tr>\n",
       "      <th>005fa0d91e609fede563ab1386609dbab7250655</th>\n",
       "      <td>c3ca9003-cb66-43fc-95a3-1e0ac62b0daa</td>\n",
       "      <td>2020-06-05 08:50:44+00:00</td>\n",
       "      <td>097fdf7b-41e4-4fec-b52c-8ba88be8f4c1</td>\n",
       "      <td>7080f1f31d238381c88a105258b7e891728a5c97</td>\n",
       "      <td>243.128592</td>\n",
       "    </tr>\n",
       "    <tr>\n",
       "      <th>00715c8f81403a0dae2329f7217ae5c9506a1691</th>\n",
       "      <td>cdb2c545-d430-4b52-be94-c6d8cbb6a1f1</td>\n",
       "      <td>2020-05-29 07:34:49+00:00</td>\n",
       "      <td>cea238d3-d72f-4f86-b446-14164943c395</td>\n",
       "      <td>5dc2e15a296b2910a219f2ad6c6a0b996575002e</td>\n",
       "      <td>939.699533</td>\n",
       "    </tr>\n",
       "    <tr>\n",
       "      <th>00ba3fdeba3e968aeb68310a546098d0efe4bb3f</th>\n",
       "      <td>0cb052b6-414e-4e19-80b9-e44458df7e5a</td>\n",
       "      <td>2020-06-08 03:58:36+00:00</td>\n",
       "      <td>efd65b15-a16b-4ffe-a8a0-67c205c778b2</td>\n",
       "      <td>a14b9cfb63a6ba4a570f7088f350340096605de0</td>\n",
       "      <td>386.084229</td>\n",
       "    </tr>\n",
       "  </tbody>\n",
       "</table>\n",
       "</div>"
      ],
      "text/plain": [
       "                                                                      order_id  \\\n",
       "email                                                                            \n",
       "00563c174e1904e1333f6140b4f5af62e9af31f4  de347ad8-881d-4db2-8f77-8cd7c3bc8409   \n",
       "005fa0d91e609fede563ab1386609dbab7250655  64f7fbab-074a-4b43-9b1c-a6c7e6b615bf   \n",
       "005fa0d91e609fede563ab1386609dbab7250655  c3ca9003-cb66-43fc-95a3-1e0ac62b0daa   \n",
       "00715c8f81403a0dae2329f7217ae5c9506a1691  cdb2c545-d430-4b52-be94-c6d8cbb6a1f1   \n",
       "00ba3fdeba3e968aeb68310a546098d0efe4bb3f  0cb052b6-414e-4e19-80b9-e44458df7e5a   \n",
       "\n",
       "                                                        order_date  \\\n",
       "email                                                                \n",
       "00563c174e1904e1333f6140b4f5af62e9af31f4 2020-05-28 12:51:48+00:00   \n",
       "005fa0d91e609fede563ab1386609dbab7250655 2020-06-10 18:11:59+00:00   \n",
       "005fa0d91e609fede563ab1386609dbab7250655 2020-06-05 08:50:44+00:00   \n",
       "00715c8f81403a0dae2329f7217ae5c9506a1691 2020-05-29 07:34:49+00:00   \n",
       "00ba3fdeba3e968aeb68310a546098d0efe4bb3f 2020-06-08 03:58:36+00:00   \n",
       "\n",
       "                                                                   customer_id  \\\n",
       "email                                                                            \n",
       "00563c174e1904e1333f6140b4f5af62e9af31f4  a77c93a2-2b07-4f36-93f4-2cdb5de40fac   \n",
       "005fa0d91e609fede563ab1386609dbab7250655  097fdf7b-41e4-4fec-b52c-8ba88be8f4c1   \n",
       "005fa0d91e609fede563ab1386609dbab7250655  097fdf7b-41e4-4fec-b52c-8ba88be8f4c1   \n",
       "00715c8f81403a0dae2329f7217ae5c9506a1691  cea238d3-d72f-4f86-b446-14164943c395   \n",
       "00ba3fdeba3e968aeb68310a546098d0efe4bb3f  efd65b15-a16b-4ffe-a8a0-67c205c778b2   \n",
       "\n",
       "                                                                           ip_addr  \\\n",
       "email                                                                                \n",
       "00563c174e1904e1333f6140b4f5af62e9af31f4  5e523d96f0b3a52caeb612543bab45f409c98396   \n",
       "005fa0d91e609fede563ab1386609dbab7250655  7080f1f31d238381c88a105258b7e891728a5c97   \n",
       "005fa0d91e609fede563ab1386609dbab7250655  7080f1f31d238381c88a105258b7e891728a5c97   \n",
       "00715c8f81403a0dae2329f7217ae5c9506a1691  5dc2e15a296b2910a219f2ad6c6a0b996575002e   \n",
       "00ba3fdeba3e968aeb68310a546098d0efe4bb3f  a14b9cfb63a6ba4a570f7088f350340096605de0   \n",
       "\n",
       "                                          order_amount  \n",
       "email                                                   \n",
       "00563c174e1904e1333f6140b4f5af62e9af31f4    172.943654  \n",
       "005fa0d91e609fede563ab1386609dbab7250655     90.264341  \n",
       "005fa0d91e609fede563ab1386609dbab7250655    243.128592  \n",
       "00715c8f81403a0dae2329f7217ae5c9506a1691    939.699533  \n",
       "00ba3fdeba3e968aeb68310a546098d0efe4bb3f    386.084229  "
      ]
     },
     "execution_count": null,
     "metadata": {},
     "output_type": "execute_result"
    }
   ],
   "source": [
    "dd.read_parquet(result.partitioned['email']).head()"
   ]
  },
  {
   "cell_type": "code",
   "execution_count": null,
   "metadata": {},
   "outputs": [],
   "source": []
  }
 ],
 "metadata": {
  "kernelspec": {
   "display_name": "Python 3",
   "language": "python",
   "name": "python3"
  }
 },
 "nbformat": 4,
 "nbformat_minor": 4
}
