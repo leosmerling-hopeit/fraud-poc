{
 "cells": [
  {
   "cell_type": "code",
   "execution_count": null,
   "metadata": {},
   "outputs": [
    {
     "name": "stdout",
     "output_type": "stream",
     "text": [
      "Converted 00_jobs.ipynb.\n",
      "Converted 01-create-sample-data.ipynb.\n",
      "Converted 02-preprocess.ipynb.\n",
      "Converted 03-feature-calc.ipynb.\n",
      "Converted 04-training-data.ipynb.\n",
      "Converted 05-train-model.ipynb.\n",
      "Converted 06-submit-training-pipeline.ipynb.\n",
      "Converted 07-prepare-db.ipynb.\n",
      "Converted 08-predict.ipynb.\n",
      "Converted 99-tools.ipynb.\n",
      "Converted index.ipynb.\n",
      "2020-07-08 11:40:05,489 | INFO | hopeit.engine 0.1.0 openapi leo-legion 38607 | [hopeit.cli.openapi] openapi.update | \n",
      "2020-07-08 11:40:05,489 | INFO | hopeit.engine 0.1.0 openapi leo-legion 38607 | [hopeit.server.api] Creating Open API spec... | \n",
      "2020-07-08 11:40:05,489 | INFO | hopeit.engine 0.1.0 openapi leo-legion 38607 | [hopeit.server.api] API: openapi=3.0.3, API version=0.0.1 | \n",
      "2020-07-08 11:40:05,529 | INFO | hopeit.engine 0.1.0 openapi leo-legion 38607 | [hopeit.server.api] Registering apps... | \n",
      "2020-07-08 11:40:05,529 | INFO | hopeit.engine 0.1.0 openapi leo-legion 38607 | [hopeit.server.api] Updating API spec for app=fraud_poc.0x0x1_training... | \n",
      "2020-07-08 11:40:05,845 | INFO | hopeit.engine 0.1.0 openapi leo-legion 38607 | [hopeit.server.api] Set API version=0.0.1... | \n",
      "2020-07-08 11:40:05,845 | INFO | hopeit.engine 0.1.0 openapi leo-legion 38607 | [hopeit.server.api] Saving api spec to api_file=config/openapi-training.json... | \n",
      "2020-07-08 11:40:06,325 | INFO | hopeit.engine 0.1.0 openapi leo-legion 38621 | [hopeit.cli.openapi] openapi.update | \n",
      "2020-07-08 11:40:06,325 | INFO | hopeit.engine 0.1.0 openapi leo-legion 38621 | [hopeit.server.api] Creating Open API spec... | \n",
      "2020-07-08 11:40:06,325 | INFO | hopeit.engine 0.1.0 openapi leo-legion 38621 | [hopeit.server.api] API: openapi=3.0.3, API version=0.0.1 | \n",
      "2020-07-08 11:40:06,345 | INFO | hopeit.engine 0.1.0 openapi leo-legion 38621 | [hopeit.server.api] Registering apps... | \n",
      "2020-07-08 11:40:06,345 | INFO | hopeit.engine 0.1.0 openapi leo-legion 38621 | [hopeit.server.api] Updating API spec for app=fraud_poc.0x0x1_service... | \n",
      "2020-07-08 11:40:06,950 | INFO | hopeit.engine 0.1.0 openapi leo-legion 38621 | [hopeit.server.api] Set API version=0.0.1... | \n",
      "2020-07-08 11:40:06,950 | INFO | hopeit.engine 0.1.0 openapi leo-legion 38621 | [hopeit.server.api] Saving api spec to api_file=config/openapi-service.json... | \n"
     ]
    }
   ],
   "source": [
    "# Creates openapi.json file\n",
    "\n",
    "!nbdev_build_lib\n",
    "!export PYTHONPATH=. && hopeit_openapi create --config-files=config/server.json,config/training-pipeline.json --api-version=0.0.1 --title=\"Fraud POC Training Pipeline\" --description=\"Fraud POC\" --output-file config/openapi-training.json\n",
    "!export PYTHONPATH=. && hopeit_openapi create --config-files=config/server.json,config/fraud-service.json --api-version=0.0.1 --title=\"Fraud POC Live Service\" --description=\"Fraud POC\" --output-file config/openapi-service.json\n"
   ]
  },
  {
   "cell_type": "code",
   "execution_count": null,
   "metadata": {},
   "outputs": [],
   "source": []
  }
 ],
 "metadata": {
  "kernelspec": {
   "display_name": "Python 3",
   "language": "python",
   "name": "python3"
  }
 },
 "nbformat": 4,
 "nbformat_minor": 4
}
