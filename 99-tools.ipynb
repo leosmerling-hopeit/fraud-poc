{
 "cells": [
  {
   "cell_type": "code",
   "execution_count": null,
   "metadata": {},
   "outputs": [
    {
     "name": "stdout",
     "output_type": "stream",
     "text": [
      "2020-07-06 19:37:02,668 | INFO | hopeit.engine 0.1.0 openapi leo-legion 52164 | [hopeit.cli.openapi] openapi.update | \n",
      "2020-07-06 19:37:02,668 | INFO | hopeit.engine 0.1.0 openapi leo-legion 52164 | [hopeit.server.api] Creating Open API spec... | \n",
      "2020-07-06 19:37:02,668 | INFO | hopeit.engine 0.1.0 openapi leo-legion 52164 | [hopeit.server.api] API: openapi=3.0.3, API version=0.0.1 | \n",
      "2020-07-06 19:37:02,700 | INFO | hopeit.engine 0.1.0 openapi leo-legion 52164 | [hopeit.server.api] Registering apps... | \n",
      "2020-07-06 19:37:02,700 | INFO | hopeit.engine 0.1.0 openapi leo-legion 52164 | [hopeit.server.api] Updating API spec for app=fraud_poc.0x0x1... | \n",
      "2020-07-06 19:37:03,010 | INFO | hopeit.engine 0.1.0 openapi leo-legion 52164 | [hopeit.server.api] Set API version=0.0.1... | \n",
      "2020-07-06 19:37:03,011 | INFO | hopeit.engine 0.1.0 openapi leo-legion 52164 | [hopeit.server.api] Saving api spec to api_file=config/openapi.json... | \n"
     ]
    }
   ],
   "source": [
    "# Create openapi.json file\n",
    "\n",
    "!export PYTHONPATH=. && hopeit_openapi create --config-files=config/server.json,config/training-pipeline.json --api-version=0.0.1 --title=\"Fraud POC\" --description=\"Fraud POC\" --output-file config/openapi.json\n"
   ]
  },
  {
   "cell_type": "code",
   "execution_count": null,
   "metadata": {},
   "outputs": [],
   "source": []
  }
 ],
 "metadata": {
  "kernelspec": {
   "display_name": "Python 3",
   "language": "python",
   "name": "python3"
  }
 },
 "nbformat": 4,
 "nbformat_minor": 4
}
