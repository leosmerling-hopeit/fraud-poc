{
 "cells": [
  {
   "cell_type": "code",
   "execution_count": null,
   "metadata": {},
   "outputs": [
    {
     "name": "stdout",
     "output_type": "stream",
     "text": [
      "Converted 00_jobs.ipynb.\n",
      "Converted 01-create-sample-data.ipynb.\n",
      "Converted 02-preprocess.ipynb.\n",
      "Converted 03-feature-calc.ipynb.\n",
      "Converted 04-training-data.ipynb.\n",
      "Converted 05-train-model.ipynb.\n",
      "Converted 06-submit-training-pipeline.ipynb.\n",
      "Converted 99-tools.ipynb.\n",
      "Converted index.ipynb.\n",
      "2020-07-07 10:48:43,868 | INFO | hopeit.engine 0.1.0 openapi leo-legion 32590 | [hopeit.cli.openapi] openapi.update | \n",
      "2020-07-07 10:48:43,868 | INFO | hopeit.engine 0.1.0 openapi leo-legion 32590 | [hopeit.server.api] Creating Open API spec... | \n",
      "2020-07-07 10:48:43,868 | INFO | hopeit.engine 0.1.0 openapi leo-legion 32590 | [hopeit.server.api] API: openapi=3.0.3, API version=0.0.1 | \n",
      "2020-07-07 10:48:43,904 | INFO | hopeit.engine 0.1.0 openapi leo-legion 32590 | [hopeit.server.api] Registering apps... | \n",
      "2020-07-07 10:48:43,904 | INFO | hopeit.engine 0.1.0 openapi leo-legion 32590 | [hopeit.server.api] Updating API spec for app=fraud_poc.0x0x1... | \n",
      "2020-07-07 10:48:44,599 | INFO | hopeit.engine 0.1.0 openapi leo-legion 32590 | [hopeit.server.api] Set API version=0.0.1... | \n",
      "2020-07-07 10:48:44,599 | INFO | hopeit.engine 0.1.0 openapi leo-legion 32590 | [hopeit.server.api] Saving api spec to api_file=config/openapi.json... | \n"
     ]
    }
   ],
   "source": [
    "# Creates openapi.json file\n",
    "\n",
    "!nbdev_build_lib\n",
    "!export PYTHONPATH=. && hopeit_openapi create --config-files=config/server.json,config/training-pipeline.json --api-version=0.0.1 --title=\"Fraud POC\" --description=\"Fraud POC\" --output-file config/openapi.json\n"
   ]
  },
  {
   "cell_type": "code",
   "execution_count": null,
   "metadata": {},
   "outputs": [],
   "source": []
  }
 ],
 "metadata": {
  "kernelspec": {
   "display_name": "Python 3",
   "language": "python",
   "name": "python3"
  }
 },
 "nbformat": 4,
 "nbformat_minor": 4
}
